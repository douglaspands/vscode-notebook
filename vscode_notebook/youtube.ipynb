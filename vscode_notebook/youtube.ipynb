{
 "cells": [
  {
   "attachments": {},
   "cell_type": "markdown",
   "metadata": {},
   "source": [
    "# YouTube\n",
    "Tem como objetivo baixar videos no YouTube."
   ]
  },
  {
   "attachments": {},
   "cell_type": "markdown",
   "metadata": {},
   "source": [
    "## Setup"
   ]
  },
  {
   "cell_type": "code",
   "execution_count": null,
   "metadata": {},
   "outputs": [],
   "source": [
    "from pytube import YouTube as PyTube, StreamQuery\n",
    "from pathlib import Path\n",
    "import pandas as pd\n",
    "from IPython.display import clear_output\n",
    "from functools import cache\n",
    "\n",
    "YOUTUBE_PATH = Path(\"./files/youtube\")\n",
    "YOUTUBE_PATH.mkdir(exist_ok=True)\n",
    "\n",
    "\n",
    "class YouTube:\n",
    "    def __init__(self, url: str):\n",
    "        self._yt = PyTube(url=url, on_progress_callback=self._progress)\n",
    "        self.url = url\n",
    "        self.autor = self._yt.author\n",
    "        self.titulo = self._yt.title\n",
    "        self._filesize: int = 0\n",
    "\n",
    "    def __str__(self) -> str:\n",
    "        return f\"<Youtube autor='{self.autor}' titulo='{self.titulo}'>\"\n",
    "\n",
    "    def __repr__(self) -> str:\n",
    "        return str(self)\n",
    "\n",
    "    @property\n",
    "    def _streams(self) -> StreamQuery:\n",
    "        @cache\n",
    "        def wrapper():\n",
    "            return self._yt.streams\n",
    "        return wrapper()\n",
    "\n",
    "    def _progress(self, chunk, file_handle: bytes, bytes_remaining: int):\n",
    "        percent = ((self._filesize - bytes_remaining) * 100) / self._filesize\n",
    "        block = int((percent * 20) / 100)\n",
    "        clear_output(wait=True)\n",
    "        print(\"Progresso: [{0}] {1:.1f}%\".format(\"#\" * block + \"-\" * (20 - block), percent))\n",
    "\n",
    "    def resolucoes(self, only_progressive: bool = False) -> pd.DataFrame:\n",
    "        resolutions = self._streams\n",
    "        if only_progressive:\n",
    "            resolutions = resolutions.filter(progressive=True)\n",
    "        df = pd.DataFrame([res.__dict__ for res in resolutions])\n",
    "        return df\n",
    "    \n",
    "    def baixar_video(self, itag: int) -> str:\n",
    "        video = self._streams.get_by_itag(itag)\n",
    "        self._filesize = video.filesize\n",
    "        return video.download(output_path=str(YOUTUBE_PATH))\n"
   ]
  },
  {
   "attachments": {},
   "cell_type": "markdown",
   "metadata": {},
   "source": [
    "## Execução\n",
    "Executar os 3 passos abaixo na sequencia:"
   ]
  },
  {
   "attachments": {},
   "cell_type": "markdown",
   "metadata": {},
   "source": [
    "### 1. Digitar URL do video"
   ]
  },
  {
   "cell_type": "code",
   "execution_count": null,
   "metadata": {},
   "outputs": [],
   "source": [
    "youtube_url = \"https://www.youtube.com/watch?v=RPf8cYrA9wQ\"\n",
    "yt = YouTube(url=youtube_url)\n",
    "yt"
   ]
  },
  {
   "attachments": {},
   "cell_type": "markdown",
   "metadata": {},
   "source": [
    "### 2. Listar Resoluções"
   ]
  },
  {
   "cell_type": "code",
   "execution_count": null,
   "metadata": {},
   "outputs": [],
   "source": [
    "# Somente campos\n",
    "\", \".join(list(yt.resolucoes()))"
   ]
  },
  {
   "cell_type": "code",
   "execution_count": null,
   "metadata": {},
   "outputs": [],
   "source": [
    "yt.resolucoes(only_progressive=True)[[\"itag\", \"mime_type\", \"video_codec\", \"audio_codec\", \"fps\", \"resolution\", \"abr\"]]"
   ]
  },
  {
   "attachments": {},
   "cell_type": "markdown",
   "metadata": {},
   "source": [
    "### 3. Baixar Video"
   ]
  },
  {
   "cell_type": "code",
   "execution_count": null,
   "metadata": {},
   "outputs": [],
   "source": [
    "yt.baixar_video(itag=18)"
   ]
  }
 ],
 "metadata": {
  "kernelspec": {
   "display_name": ".venv",
   "language": "python",
   "name": "python3"
  },
  "language_info": {
   "codemirror_mode": {
    "name": "ipython",
    "version": 3
   },
   "file_extension": ".py",
   "mimetype": "text/x-python",
   "name": "python",
   "nbconvert_exporter": "python",
   "pygments_lexer": "ipython3",
   "version": "3.10.4"
  },
  "orig_nbformat": 4,
  "vscode": {
   "interpreter": {
    "hash": "6c5ca7531f59fa0228d3041ec16587b2d14eed0a831b158ef3a275f8b2515388"
   }
  }
 },
 "nbformat": 4,
 "nbformat_minor": 2
}
