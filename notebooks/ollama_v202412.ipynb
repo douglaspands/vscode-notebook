{
 "cells": [
  {
   "cell_type": "markdown",
   "metadata": {},
   "source": [
    "# Ollama\n",
    "Estudos referentes as novidades: [structured-outputs](https://ollama.com/blog/structured-outputs)"
   ]
  },
  {
   "cell_type": "code",
   "execution_count": 43,
   "metadata": {},
   "outputs": [
    {
     "name": "stdout",
     "output_type": "stream",
     "text": [
      "name='Canada' capital='Ottawa' languages=['English', 'French', 'Indigenous languages']\n"
     ]
    }
   ],
   "source": [
    "from ollama import chat\n",
    "from pydantic import BaseModel\n",
    "\n",
    "\n",
    "class Country(BaseModel):\n",
    "    name: str\n",
    "    capital: str\n",
    "    languages: list[str]\n",
    "\n",
    "\n",
    "response = chat(\n",
    "    messages=[\n",
    "        {\n",
    "            \"role\": \"user\",\n",
    "            \"content\": \"Tell me about Canada.\",\n",
    "        }\n",
    "    ],\n",
    "    model=\"llama3.2:3b\",\n",
    "    format=Country.model_json_schema(),\n",
    ")\n",
    "\n",
    "country = Country.model_validate_json(response.message.content)\n",
    "print(country)"
   ]
  },
  {
   "cell_type": "code",
   "execution_count": 36,
   "metadata": {},
   "outputs": [
    {
     "data": {
      "text/markdown": [
       "## Python"
      ],
      "text/plain": [
       "<IPython.core.display.Markdown object>"
      ]
     },
     "metadata": {},
     "output_type": "display_data"
    },
    {
     "data": {
      "text/markdown": [
       "```python\n",
       "def fibonacci(n):\n",
       "    if n <= 0:\n",
       "        return []\n",
       "    elif n == 1:\n",
       "        return [0]\n",
       "    fib_sequence = [0, 1]\n",
       "    for i in range(2, n):\n",
       "        next_value = fib_sequence[i-1] + fib_sequence[i-2]\n",
       "        fib_sequence.append(next_value)\n",
       "    return fib_sequence\n",
       "# Exemplo de uso:\n",
       "n_terms = 10\n",
       "print(fibonacci(n_terms))\n",
       "```"
      ],
      "text/plain": [
       "<IPython.core.display.Markdown object>"
      ]
     },
     "metadata": {},
     "output_type": "display_data"
    },
    {
     "data": {
      "text/markdown": [
       "Esta função `fibonacci` retorna uma sequência de Fibonacci com um número especificado de termos. O exemplo exibe os primeiros 10 termos."
      ],
      "text/plain": [
       "<IPython.core.display.Markdown object>"
      ]
     },
     "metadata": {},
     "output_type": "display_data"
    },
    {
     "data": {
      "text/markdown": [
       "## Golang"
      ],
      "text/plain": [
       "<IPython.core.display.Markdown object>"
      ]
     },
     "metadata": {},
     "output_type": "display_data"
    },
    {
     "data": {
      "text/markdown": [
       "```go\n",
       "package main\n",
       "import \"fmt\"\n",
       "func fibonacci(n int) []int {\n",
       "    if n <= 0 {\n",
       "        return nil\n",
       "    }\n",
       "    fibSequence := make([]int, n)\n",
       "    fibSequence[0] = 0\n",
       "    if n > 1 {\n",
       "        fibSequence[1] = 1\n",
       "    }\n",
       "    for i := 2; i < n; i++ {\n",
       "        fibSequence[i] = fibSequence[i-1] + fibSequence[i-2]\n",
       "    }\n",
       "    return fibSequence\n",
       "}\n",
       "func main() {\n",
       "    nTerms := 10\n",
       "    fmt.Println(fibonacci(nTerms))\n",
       "}\n",
       "```\n"
      ],
      "text/plain": [
       "<IPython.core.display.Markdown object>"
      ]
     },
     "metadata": {},
     "output_type": "display_data"
    },
    {
     "data": {
      "text/markdown": [
       "A função `fibonacci` retorna uma sequência de Fibonacci com um número especificado de termos. O exemplo exibe os primeiros 10 termos."
      ],
      "text/plain": [
       "<IPython.core.display.Markdown object>"
      ]
     },
     "metadata": {},
     "output_type": "display_data"
    },
    {
     "data": {
      "text/markdown": [
       "## C#"
      ],
      "text/plain": [
       "<IPython.core.display.Markdown object>"
      ]
     },
     "metadata": {},
     "output_type": "display_data"
    },
    {
     "data": {
      "text/markdown": [
       "```c#\n",
       "using System;\n",
       "public class Program {\n",
       "    public static void Main(string[] args) {\n",
       "        int nTerms = 10;\n",
       "        Console.WriteLine(string.Join(\", \", Fibonacci(nTerms)));\n",
       "    }\n",
       "\n",
       "    public static int[] Fibonacci(int n) {\n",
       "        if (n <= 0) {\n",
       "            return new int[0];\n",
       "        }\n",
       "        int[] fibSequence = new int[n];\n",
       "        fibSequence[0] = 0;\n",
       "        if (n > 1) {\n",
       "            fibSequence[1] = 1;\n",
       "        }\n",
       "        for (int i = 2; i < n; i++) {\n",
       "            fibSequence[i] = fibSequence[i - 1] + fibSequence[i - 2];\n",
       "        }\n",
       "        return fibSequence;\n",
       "    }\n",
       "}\n",
       "```\n"
      ],
      "text/plain": [
       "<IPython.core.display.Markdown object>"
      ]
     },
     "metadata": {},
     "output_type": "display_data"
    },
    {
     "data": {
      "text/markdown": [
       "A classe `Program` contém a função `Fibonacci`, que retorna uma sequência de Fibonacci com um número especificado de termos. O exemplo exibe os primeiros 10 termos."
      ],
      "text/plain": [
       "<IPython.core.display.Markdown object>"
      ]
     },
     "metadata": {},
     "output_type": "display_data"
    },
    {
     "data": {
      "text/markdown": [
       "## Java"
      ],
      "text/plain": [
       "<IPython.core.display.Markdown object>"
      ]
     },
     "metadata": {},
     "output_type": "display_data"
    },
    {
     "data": {
      "text/markdown": [
       "```java\n",
       "public class Main {\n",
       "    public static void main(String[] args) {\n",
       "        int nTerms = 10;\n",
       "        System.out.println(java.util.Arrays.toString(fibonacci(nTerms)));\n",
       "    }\n",
       "\n",
       "    public static int[] fibonacci(int n) {\n",
       "        if (n <= 0) {\n",
       "            return new int[0];\n",
       "        }\n",
       "        int[] fibSequence = new int[n];\n",
       "        fibSequence[0] = 0;\n",
       "        if (n > 1) {\n",
       "            fibSequence[1] = 1;\n",
       "        }\n",
       "        for (int i = 2; i < n; i++) {\n",
       "            fibSequence[i] = fibSequence[i - 1] + fibSequence[i - 2];\n",
       "        }\n",
       "        return fibSequence;\n",
       "    }\n",
       "}\n",
       "```\n"
      ],
      "text/plain": [
       "<IPython.core.display.Markdown object>"
      ]
     },
     "metadata": {},
     "output_type": "display_data"
    },
    {
     "data": {
      "text/markdown": [
       "A classe `Main` contém a função `fibonacci`, que retorna uma sequência de Fibonacci com um número especificado de termos. O exemplo exibe os primeiros 10 termos."
      ],
      "text/plain": [
       "<IPython.core.display.Markdown object>"
      ]
     },
     "metadata": {},
     "output_type": "display_data"
    },
    {
     "data": {
      "text/markdown": [
       "## Rust"
      ],
      "text/plain": [
       "<IPython.core.display.Markdown object>"
      ]
     },
     "metadata": {},
     "output_type": "display_data"
    },
    {
     "data": {
      "text/markdown": [
       "```rust\n",
       "fn fibonacci(n: usize) -> Vec<usize> {\n",
       "    if n == 0 {\n",
       "        return vec![];\n",
       "    }\n",
       "    let mut fib_sequence = vec![0, 1];\n",
       "    while fib_sequence.len() < n {\n",
       "        let next_value = fib_sequence[fib_sequence.len() - 1] + fib_sequence[fib_sequence.len() - 2];\n",
       "        fib_sequence.push(next_value);\n",
       "    }\n",
       "    fib_sequence.truncate(n); // Caso n seja menor do que a sequência gerada\n",
       "    fib_sequence\n",
       "}\n",
       "fn main() {\n",
       "    let n_terms = 10;\n",
       "    println!(\"{:?}\", fibonacci(n_terms));\n",
       "}\n",
       "```\n"
      ],
      "text/plain": [
       "<IPython.core.display.Markdown object>"
      ]
     },
     "metadata": {},
     "output_type": "display_data"
    },
    {
     "data": {
      "text/markdown": [
       "A função `fibonacci` retorna uma sequência de Fibonacci com um número especificado de termos. O exemplo exibe os primeiros 10 termos."
      ],
      "text/plain": [
       "<IPython.core.display.Markdown object>"
      ]
     },
     "metadata": {},
     "output_type": "display_data"
    },
    {
     "data": {
      "text/markdown": [
       "## Node.js"
      ],
      "text/plain": [
       "<IPython.core.display.Markdown object>"
      ]
     },
     "metadata": {},
     "output_type": "display_data"
    },
    {
     "data": {
      "text/markdown": [
       "```javascript\n",
       "function fibonacci(n) {\n",
       "    if (n <= 0) return [];\n",
       "    let fibSequence = [0, 1];\n",
       "    for (let i = 2; i < n; i++) {\n",
       "        fibSequence.push(fibSequence[i - 1] + fibSequence[i - 2]);\n",
       "    }\n",
       "    return fibSequence.slice(0, n);\n",
       "}\n",
       "\n",
       "// Exemplo de uso:\n",
       "const nTerms = 10;\n",
       "console.log(fibonacci(nTerms));\n",
       "```\n"
      ],
      "text/plain": [
       "<IPython.core.display.Markdown object>"
      ]
     },
     "metadata": {},
     "output_type": "display_data"
    },
    {
     "data": {
      "text/markdown": [
       "A função `fibonacci` retorna uma sequência de Fibonacci com um número especificado de termos. O exemplo exibe os primeiros 10 termos."
      ],
      "text/plain": [
       "<IPython.core.display.Markdown object>"
      ]
     },
     "metadata": {},
     "output_type": "display_data"
    }
   ],
   "source": [
    "from ollama import chat\n",
    "from pydantic import BaseModel\n",
    "from IPython import display\n",
    "\n",
    "\n",
    "class DevelopmentSystem(BaseModel):\n",
    "    programmer_language: str\n",
    "    source_code_in_markdown: str\n",
    "    description_in_markdown: str\n",
    "\n",
    "\n",
    "class ResponseList(BaseModel):\n",
    "    responses: list[DevelopmentSystem]\n",
    "\n",
    "\n",
    "response = chat(\n",
    "    model=\"qwen2.5:7b\",\n",
    "    messages=[\n",
    "        {\n",
    "            \"role\": \"user\",\n",
    "            \"content\": \"\"\"\n",
    "Eu gostaria da sequencia de fibbonacci em Python, Golang, C#, Java, Rust e Node.js\n",
    "            \"\"\",\n",
    "        },\n",
    "    ],\n",
    "    format=ResponseList.model_json_schema(),\n",
    ")\n",
    "\n",
    "result = ResponseList.model_validate_json(response.message.content)\n",
    "for res in result.responses:\n",
    "    display.display(display.Markdown(f\"## {res.programmer_language}\"))\n",
    "    display.display(display.Markdown(res.source_code_in_markdown))\n",
    "    display.display(display.Markdown(res.description_in_markdown))"
   ]
  },
  {
   "cell_type": "code",
   "execution_count": 38,
   "metadata": {},
   "outputs": [
    {
     "data": {
      "text/markdown": [
       "## Flask"
      ],
      "text/plain": [
       "<IPython.core.display.Markdown object>"
      ]
     },
     "metadata": {},
     "output_type": "display_data"
    },
    {
     "data": {
      "text/markdown": [
       "```python\n",
       "from flask import Flask, jsonify, request\n",
       "app = Flask(__name__)\n",
       "\n",
       "@app.route('/hello', methods=['GET'])\n",
       "def hello():\n",
       "    return 'Hello World!'\n",
       "\n",
       "@app.route('/sum', methods=['POST'])\n",
       "def sum():\n",
       "    data = request.get_json()\n",
       "    result = data['num1'] + data['num2']\n",
       "    return jsonify(result=result)\n",
       "\n",
       "if __name__ == '__main__':\n",
       "    app.run(debug=True)\n",
       "```"
      ],
      "text/plain": [
       "<IPython.core.display.Markdown object>"
      ]
     },
     "metadata": {},
     "output_type": "display_data"
    },
    {
     "data": {
      "text/markdown": [
       "Este exemplo usa o framework Flask. Ele define duas rotas: `/hello` que responde com 'Hello World!' e `/sum`, que aceita um POST com dois números JSON e retorna a soma desses números."
      ],
      "text/plain": [
       "<IPython.core.display.Markdown object>"
      ]
     },
     "metadata": {},
     "output_type": "display_data"
    },
    {
     "data": {
      "text/markdown": [
       "## Django"
      ],
      "text/plain": [
       "<IPython.core.display.Markdown object>"
      ]
     },
     "metadata": {},
     "output_type": "display_data"
    },
    {
     "data": {
      "text/markdown": [
       "```python\n",
       "from django.http import JsonResponse, HttpResponseBadRequest\n",
       "from django.views.decorators.csrf import csrf_exempt\n",
       "import json\n",
       "\n",
       "@csrf_exempt\n",
       "def sum(request):\n",
       "    if request.method == 'POST':\n",
       "        try:\n",
       "            data = json.loads(request.body)\n",
       "            result = data['num1'] + data['num2']\n",
       "            return JsonResponse({'result': result})\n",
       "        except (KeyError, json.JSONDecodeError): # Trata erros de JSON\n",
       "            return HttpResponseBadRequest()\n",
       "    else:\n",
       "        return HttpResponseBadRequest()\n",
       "\n",
       "urlpatterns = [\n",
       "    path('sum/', sum),\n",
       "]\n",
       "```"
      ],
      "text/plain": [
       "<IPython.core.display.Markdown object>"
      ]
     },
     "metadata": {},
     "output_type": "display_data"
    },
    {
     "data": {
      "text/markdown": [
       "Este exemplo usa o framework Django. Ele define uma rota `/sum/` que aceita um POST com dois números JSON e retorna a soma desses números. É necessário proteger contra CSRF, então `@csrf_exempt` foi utilizado."
      ],
      "text/plain": [
       "<IPython.core.display.Markdown object>"
      ]
     },
     "metadata": {},
     "output_type": "display_data"
    },
    {
     "data": {
      "text/markdown": [
       "## FastAPI"
      ],
      "text/plain": [
       "<IPython.core.display.Markdown object>"
      ]
     },
     "metadata": {},
     "output_type": "display_data"
    },
    {
     "data": {
      "text/markdown": [
       "```python\n",
       "from fastapi import FastAPI\n",
       "import uvicorn\n",
       "\n",
       "app = FastAPI()\n",
       "\n",
       "@app.get('/hello')\n",
       "def hello():\n",
       "    return {'message': 'Hello World!'}\n",
       "\n",
       "@app.post('/sum')\n",
       "def sum(num1: int, num2: int):\n",
       "    result = num1 + num2\n",
       "    return {'result': result}\n",
       "\n",
       "if __name__ == '__main__':\n",
       "    uvicorn.run(app)\n",
       "```"
      ],
      "text/plain": [
       "<IPython.core.display.Markdown object>"
      ]
     },
     "metadata": {},
     "output_type": "display_data"
    },
    {
     "data": {
      "text/markdown": [
       "Este exemplo usa o framework FastAPI. Ele define duas rotas: `/hello` que retorna uma mensagem de saudação e `/sum`, que aceita um POST com dois números como parâmetros e retorna a soma desses números."
      ],
      "text/plain": [
       "<IPython.core.display.Markdown object>"
      ]
     },
     "metadata": {},
     "output_type": "display_data"
    }
   ],
   "source": [
    "from ollama import chat\n",
    "from pydantic import BaseModel\n",
    "from IPython import display\n",
    "\n",
    "\n",
    "class DevelopmentSystem(BaseModel):\n",
    "    framework: str\n",
    "    source_code_in_markdown: str\n",
    "    description_in_markdown: str\n",
    "\n",
    "\n",
    "class ResponseList(BaseModel):\n",
    "    responses: list[DevelopmentSystem]\n",
    "\n",
    "\n",
    "response = chat(\n",
    "    model=\"qwen2.5:7b\",\n",
    "    messages=[\n",
    "        {\n",
    "            \"role\": \"user\",\n",
    "            \"content\": \"\"\"\n",
    "Em Python, preciso de 3 exemplos de API REST usando frameworks diferentes.\n",
    "            \"\"\",\n",
    "        },\n",
    "    ],\n",
    "    format=ResponseList.model_json_schema(),\n",
    ")\n",
    "\n",
    "result = ResponseList.model_validate_json(response.message.content)\n",
    "for res in result.responses:\n",
    "    display.display(display.Markdown(f\"## {res.framework}\"))\n",
    "    display.display(display.Markdown(res.source_code_in_markdown))\n",
    "    display.display(display.Markdown(res.description_in_markdown))"
   ]
  },
  {
   "cell_type": "code",
   "execution_count": 41,
   "metadata": {},
   "outputs": [
    {
     "data": {
      "text/markdown": [
       "## Python - Flask"
      ],
      "text/plain": [
       "<IPython.core.display.Markdown object>"
      ]
     },
     "metadata": {},
     "output_type": "display_data"
    },
    {
     "data": {
      "text/markdown": [
       "```python\n",
       "from flask import Flask, jsonify\n",
       "app = Flask(__name__)\n",
       "\n",
       "@app.route('/api/v1/data', methods=['GET'])\n",
       "def get_data():\n",
       "    return jsonify({\"example_key\": \"example_value\"})\n",
       "\n",
       "if __name__ == '__main__':\n",
       "    app.run()\n",
       "```"
      ],
      "text/plain": [
       "<IPython.core.display.Markdown object>"
      ]
     },
     "metadata": {},
     "output_type": "display_data"
    },
    {
     "data": {
      "text/markdown": [
       "Um exemplo simples de uma API REST em Flask, Python. Esta API retorna um objeto JSON quando acessa a rota '/api/v1/data'."
      ],
      "text/plain": [
       "<IPython.core.display.Markdown object>"
      ]
     },
     "metadata": {},
     "output_type": "display_data"
    },
    {
     "data": {
      "text/markdown": [
       "## Node.js - Express"
      ],
      "text/plain": [
       "<IPython.core.display.Markdown object>"
      ]
     },
     "metadata": {},
     "output_type": "display_data"
    },
    {
     "data": {
      "text/markdown": [
       "```js\n",
       "const express = require('express');\n",
       "const app = express();\n",
       "\n",
       "app.get('/api/v1/data', (req, res) => {\n",
       "  res.json({ example_key: 'example_value' });\n",
       "});\n",
       "\n",
       "app.listen(3000, () => console.log('Example API listening on port 3000!'));\n",
       "```"
      ],
      "text/plain": [
       "<IPython.core.display.Markdown object>"
      ]
     },
     "metadata": {},
     "output_type": "display_data"
    },
    {
     "data": {
      "text/markdown": [
       "Um exemplo simples de uma API REST em Express.js, Node.js. Esta API responde com um objeto JSON quando a rota '/api/v1/data' é acessada."
      ],
      "text/plain": [
       "<IPython.core.display.Markdown object>"
      ]
     },
     "metadata": {},
     "output_type": "display_data"
    },
    {
     "data": {
      "text/markdown": [
       "## Java - Spring Boot"
      ],
      "text/plain": [
       "<IPython.core.display.Markdown object>"
      ]
     },
     "metadata": {},
     "output_type": "display_data"
    },
    {
     "data": {
      "text/markdown": [
       "```java\n",
       "import org.springframework.web.bind.annotation.GetMapping;\n",
       "import org.springframework.web.bind.annotation.RestController;\n",
       "\n",
       "@RestController\n",
       "class MyController {\n",
       "  @GetMapping(\"/api/v1/data\")\n",
       "  public String getData() {\n",
       "    return \"{\"example_key\": \"example_value\"}\"; \n",
       "  }\n",
       "}\n",
       "```"
      ],
      "text/plain": [
       "<IPython.core.display.Markdown object>"
      ]
     },
     "metadata": {},
     "output_type": "display_data"
    },
    {
     "data": {
      "text/markdown": [
       "Um exemplo simples de uma API REST em Spring Boot, Java. Esta API retorna uma string JSON quando a rota '/api/v1/data' é acessada."
      ],
      "text/plain": [
       "<IPython.core.display.Markdown object>"
      ]
     },
     "metadata": {},
     "output_type": "display_data"
    },
    {
     "data": {
      "text/markdown": [
       "## JavaScript - Axios"
      ],
      "text/plain": [
       "<IPython.core.display.Markdown object>"
      ]
     },
     "metadata": {},
     "output_type": "display_data"
    },
    {
     "data": {
      "text/markdown": [
       "```javascript\n",
       "const axios = require('axios');\n",
       "\n",
       "async function getData() {\n",
       "  try {\n",
       "    const response = await axios.get('/api/v1/data');\n",
       "    console.log(response.data);\n",
       "  } catch (error) {\n",
       "    console.error(error);\n",
       "  }\n",
       "}\n",
       "```\n"
      ],
      "text/plain": [
       "<IPython.core.display.Markdown object>"
      ]
     },
     "metadata": {},
     "output_type": "display_data"
    },
    {
     "data": {
      "text/markdown": [
       "Este exemplo usa Axios, uma biblioteca de HTTP para JavaScript. É usado para fazer uma solicitação GET à rota '/api/v1/data' e exibir os dados recebidos."
      ],
      "text/plain": [
       "<IPython.core.display.Markdown object>"
      ]
     },
     "metadata": {},
     "output_type": "display_data"
    },
    {
     "data": {
      "text/markdown": [
       "## Ruby - Rails"
      ],
      "text/plain": [
       "<IPython.core.display.Markdown object>"
      ]
     },
     "metadata": {},
     "output_type": "display_data"
    },
    {
     "data": {
      "text/markdown": [
       "```ruby\n",
       "# app/controllers/api/v1/data_controller.rb\n",
       "class Api::V1::DataController < ApplicationController\n",
       "  def index\n",
       "    render json: { example_key: 'example_value' }\n",
       "  end\n",
       "end\n",
       "```\n",
       "\n",
       "`# config/routes.rb`\n",
       "`Rails.application.routes.draw do`\n",
       "  `namespace :api do`\n",
       "    `namespace :v1 do`\n",
       "      `get \"data\", to: 'data#index'`\n",
       "    `end`\n",
       "  `end`\n",
       "`end`\n"
      ],
      "text/plain": [
       "<IPython.core.display.Markdown object>"
      ]
     },
     "metadata": {},
     "output_type": "display_data"
    },
    {
     "data": {
      "text/markdown": [
       "Um exemplo de uma API REST em Rails, Ruby. A rota '/api/v1/data' retorna um objeto JSON com os dados."
      ],
      "text/plain": [
       "<IPython.core.display.Markdown object>"
      ]
     },
     "metadata": {},
     "output_type": "display_data"
    },
    {
     "data": {
      "text/markdown": [
       "## Go (Golang) - Gin"
      ],
      "text/plain": [
       "<IPython.core.display.Markdown object>"
      ]
     },
     "metadata": {},
     "output_type": "display_data"
    },
    {
     "data": {
      "text/markdown": [
       "```go\n",
       "package main\n",
       "import (\n",
       "  \"net/http\"\n",
       "  \"github.com/gin-gonic/gin\"\n",
       ")\n",
       "func getData(c *gin.Context) {\n",
       "  c.JSON(http.StatusOK, gin.H{\"example_key\": \"example_value\"})\n",
       "}\n",
       "func main() {\n",
       "  r := gin.Default()\n",
       "  r.GET(\"/api/v1/data\", getData)\n",
       "  r.Run() // listen and serve on 0.0.0.0:8080\n",
       "}\n",
       "```\n"
      ],
      "text/plain": [
       "<IPython.core.display.Markdown object>"
      ]
     },
     "metadata": {},
     "output_type": "display_data"
    },
    {
     "data": {
      "text/markdown": [
       "Um exemplo de uma API REST em Go, utilizando o framework Gin. Esta API retorna um objeto JSON quando a rota '/api/v1/data' é acessada."
      ],
      "text/plain": [
       "<IPython.core.display.Markdown object>"
      ]
     },
     "metadata": {},
     "output_type": "display_data"
    }
   ],
   "source": [
    "from ollama import chat\n",
    "from pydantic import BaseModel\n",
    "from IPython import display\n",
    "\n",
    "\n",
    "class DevelopmentSystem(BaseModel):\n",
    "    programmer_language: str\n",
    "    framework: str\n",
    "    source_code_in_markdown: str\n",
    "    description_in_markdown: str\n",
    "\n",
    "\n",
    "class ResponseList(BaseModel):\n",
    "    responses: list[DevelopmentSystem]\n",
    "\n",
    "\n",
    "response = chat(\n",
    "    model=\"qwen2.5:7b\",\n",
    "    messages=[\n",
    "        {\n",
    "            \"role\": \"user\",\n",
    "            \"content\": \"\"\"\n",
    "Preciso de 6 exemplos de API REST usando frameworks e linguagens diferentes para comparação.\n",
    "            \"\"\",\n",
    "        },\n",
    "    ],\n",
    "    format=ResponseList.model_json_schema(),\n",
    ")\n",
    "\n",
    "result = ResponseList.model_validate_json(response.message.content)\n",
    "for res in result.responses:\n",
    "    display.display(display.Markdown(f\"## {res.programmer_language} - {res.framework}\"))\n",
    "    display.display(display.Markdown(res.source_code_in_markdown))\n",
    "    display.display(display.Markdown(res.description_in_markdown))"
   ]
  }
 ],
 "metadata": {
  "kernelspec": {
   "display_name": ".venv",
   "language": "python",
   "name": "python3"
  },
  "language_info": {
   "codemirror_mode": {
    "name": "ipython",
    "version": 3
   },
   "file_extension": ".py",
   "mimetype": "text/x-python",
   "name": "python",
   "nbconvert_exporter": "python",
   "pygments_lexer": "ipython3",
   "version": "3.12.3"
  }
 },
 "nbformat": 4,
 "nbformat_minor": 2
}
