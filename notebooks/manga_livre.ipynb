{
 "cells": [
  {
   "attachments": {},
   "cell_type": "markdown",
   "metadata": {},
   "source": [
    "# EXTRAÇÃO DE MANGA PELO SITE MANGALIVRE"
   ]
  },
  {
   "attachments": {},
   "cell_type": "markdown",
   "metadata": {},
   "source": [
    "## Setup\n",
    "\n",
    "É necessario fazer a instalação das seguintes dependencias do SO Linux (Ubuntu):"
   ]
  },
  {
   "cell_type": "code",
   "execution_count": null,
   "metadata": {},
   "outputs": [],
   "source": [
    "! sudo apt update -qq && sudo apt install --no-install-recommends -y chromium-chromedriver openssl"
   ]
  },
  {
   "attachments": {},
   "cell_type": "markdown",
   "metadata": {},
   "source": [
    "Se a opção de cima não funcionar, execute os 2 passos a seguir:"
   ]
  },
  {
   "attachments": {},
   "cell_type": "markdown",
   "metadata": {},
   "source": [
    "- 1/2 Instale o Google-Chrome:"
   ]
  },
  {
   "cell_type": "code",
   "execution_count": null,
   "metadata": {},
   "outputs": [],
   "source": [
    "! sudo apt-get install -y curl unzip xvfb libxi6 libgconf-2-4 && \\\n",
    "    wget https://dl.google.com/linux/direct/google-chrome-stable_current_amd64.deb && \\\n",
    "    sudo apt install ./google-chrome-stable_current_amd64.deb -y && \\\n",
    "    google-chrome --version"
   ]
  },
  {
   "attachments": {},
   "cell_type": "markdown",
   "metadata": {},
   "source": [
    "- 2/2 - Instale o Chromedriver baseado na versão no Google-Chrome. Nesse momento a versão é a `108.0.5359.71`:"
   ]
  },
  {
   "cell_type": "code",
   "execution_count": null,
   "metadata": {},
   "outputs": [],
   "source": [
    "! wget https://chromedriver.storage.googleapis.com/108.0.5359.71/chromedriver_linux64.zip && \\\n",
    "    unzip chromedriver_linux64.zip && \\\n",
    "    sudo mv chromedriver /usr/bin/chromedriver && \\\n",
    "    sudo chown root:root /usr/bin/chromedriver && \\\n",
    "    sudo chmod +x /usr/bin/chromedriver"
   ]
  },
  {
   "attachments": {},
   "cell_type": "markdown",
   "metadata": {},
   "source": [
    "> [https://chromedriver.chromium.org](https://chromedriver.chromium.org)\n",
    "\n",
    "Após instalado o Chrome/Chromium e Chromedriver, é necessario a instalação das dependencias do Python abaixo:"
   ]
  },
  {
   "cell_type": "code",
   "execution_count": null,
   "metadata": {},
   "outputs": [],
   "source": [
    "! poetry add pydash selenium-wire"
   ]
  },
  {
   "cell_type": "code",
   "execution_count": 7,
   "metadata": {},
   "outputs": [],
   "source": [
    "from __future__ import annotations\n",
    "import traceback\n",
    "from selenium.webdriver.chrome.options import Options\n",
    "from selenium.webdriver.chrome.webdriver import WebDriver\n",
    "from seleniumwire.webdriver import Chrome\n",
    "from selenium.webdriver.common.by import By\n",
    "from pathlib import Path\n",
    "from selenium.webdriver.support.ui import WebDriverWait\n",
    "from selenium.webdriver.support import expected_conditions as EC\n",
    "\n",
    "FILE_DIR = str(Path(\".\").resolve())\n",
    "\n",
    "class ChromeWebDriver:\n",
    "    def __init__(self, implicitly_wait: int = 0, headers: dict[str, str] = None):\n",
    "        self._webdriver: WebDriver = None\n",
    "        self._implicitly_wait = implicitly_wait\n",
    "        self._headers = {}\n",
    "        if headers and isinstance(headers, dict):\n",
    "            self._headers.update(headers)\n",
    "        self._options = Options()\n",
    "        prefs = {\n",
    "            \"download.default_directory\": FILE_DIR,\n",
    "            \"download.prompt_for_download\": False,\n",
    "            \"directory_upgrade\": True,\n",
    "            \"safebrowsing.enabled\": True,\n",
    "        }\n",
    "        self._options.add_experimental_option(\"prefs\", prefs)\n",
    "        self._options.add_experimental_option(\n",
    "            \"excludeSwitches\", [\"load-extension\", \"enable-automation\"]\n",
    "        )\n",
    "        self._options.add_argument(\"--disable-extensions\")\n",
    "        self._options.add_argument(\"--headless\")\n",
    "        self._options.add_argument(\"--no-sandbox\")\n",
    "        self._options.add_argument(\"--disable-dev-shm-usage\")\n",
    "        self._options.add_argument(\"window-size=1366,768\")\n",
    "\n",
    "    def __enter__(self) -> WebDriver:\n",
    "        return self.webdriver\n",
    "\n",
    "    def __exit__(self, exc_type, exc_value, exc_traceback) -> None:\n",
    "        if exc_type:\n",
    "            print(\n",
    "                \"\".join(traceback.format_exception(exc_type, exc_value, exc_traceback))\n",
    "            )\n",
    "        self.quit()\n",
    "        self.__del__()\n",
    "\n",
    "    def __del__(self) -> None:\n",
    "        del self\n",
    "\n",
    "    def _interceptor(self, request):\n",
    "        for hk, hv in self._headers.items():\n",
    "            if request.headers.get(hk):\n",
    "                del request.headers[hk]\n",
    "            request.headers[hk] = hv\n",
    "\n",
    "    @property\n",
    "    def webdriver(self) -> WebDriver:\n",
    "        if not self._webdriver:\n",
    "            self._webdriver = Chrome(\n",
    "                \"chromedriver\", options=self._options\n",
    "            )\n",
    "            self._webdriver.request_interceptor = self._interceptor\n",
    "            if self._implicitly_wait:\n",
    "                self._webdriver.implicitly_wait(self._implicitly_wait)\n",
    "        return self._webdriver\n",
    "\n",
    "    def quit(self):\n",
    "        if self._webdriver:\n",
    "            self._webdriver.quit()\n",
    "\n",
    "\n",
    "class MangaPagina:\n",
    "    def __init__(self, manga_capitulo_id: int, pagina: int, imagens: list[str]):\n",
    "        self.pagina = pagina\n",
    "        self.imagens: list[str] = imagens\n",
    "        self.manga_capitulo_id = manga_capitulo_id\n",
    "        self.id = id(self)\n",
    "\n",
    "    def __repr__(self) -> str:\n",
    "        return f\"<MangaPagina id='{self.id}'>\"\n",
    "\n",
    "\n",
    "class MangaCapitulo:\n",
    "    def __init__(self, nome: str, capitulo: str, qtde_paginas: int = 0):\n",
    "        self.nome = nome\n",
    "        self.capitulo = capitulo\n",
    "        self.qtde_paginas = qtde_paginas\n",
    "        self.id = id(self)\n",
    "        self.paginas: list[MangaPagina] = []\n",
    "\n",
    "    def adicionar_pagina(self, pagina: MangaPagina):\n",
    "        self.paginas.append(pagina)\n",
    "        \n",
    "    def __repr__(self) -> str:\n",
    "        return f\"<MangaCapitulo id='{self.id}'>\"\n",
    "\n",
    "\n",
    "class MangaLivre:\n",
    "    DELAY = 120\n",
    "    \n",
    "    def __init__(self):\n",
    "        self._chrome_webdriver = ChromeWebDriver(implicitly_wait=self.DELAY)\n",
    "        self._delay = self.DELAY\n",
    "        self.test = []\n",
    "\n",
    "    # def _obter_scans(self, url: str) -> dict[int, str]:\n",
    "    #     with self._chrome_webdriver as webdriver:\n",
    "    #         pagina = {}\n",
    "    #         # xpath_image = '//div[@class=\"manga-image\"]/picture/img'\n",
    "    #         xpath_image = '//img'\n",
    "    #         webdriver.get(url)\n",
    "    #         pagina[1] = []\n",
    "    #         for elem in webdriver.find_elements(By.XPATH, xpath_image):\n",
    "    #             pagina[1].append(elem.get_attribute(\"src\"))\n",
    "    #         total = int(webdriver.find_element(By.XPATH, '//em[@reader-total-pages=\"\"]').text)\n",
    "    #         for n in range(1, total):\n",
    "    #             webdriver.get(f\"{url}#/!page{n!s}\")\n",
    "    #             pagina[n+1] = []\n",
    "    #             for elem in webdriver.find_elements(By.XPATH, xpath_image):\n",
    "    #                 pagina[n+1].append(elem.get_attribute(\"src\"))\n",
    "    #     return pagina\n",
    "\n",
    "    def _obter_scans(self, url: str) -> dict[int, str]:\n",
    "        with self._chrome_webdriver as webdriver:\n",
    "            pagina = {}\n",
    "            # xpath_image = '//div[@class=\"manga-image\"]/picture/img'\n",
    "            xpath_image = '//picture/img'\n",
    "            webdriver.get(url)\n",
    "            pagina[1] = []\n",
    "            elem = WebDriverWait(webdriver, self._delay).until(EC.presence_of_element_located((By.XPATH, xpath_image)))\n",
    "            pagina[1].append(elem.get_attribute(\"src\"))\n",
    "            total = int(webdriver.find_element(By.XPATH, '//em[@reader-total-pages=\"\"]').text)\n",
    "            for n in range(1, total):\n",
    "                print(f\"pagina: {n}\")\n",
    "                webdriver.get(f\"{url}#/!page{n!s}\")\n",
    "                pagina[n+1] = []\n",
    "                elem = WebDriverWait(webdriver, self._delay).until(EC.presence_of_element_located((By.XPATH, xpath_image)))\n",
    "                pagina[n+1].append(elem.get_attribute(\"src\"))\n",
    "        return pagina\n",
    "\n",
    "      \n",
    "    def extrair_manga(self, nome: str, url: str) -> MangaCapitulo:\n",
    "        capitulo = url.split(\"/\").pop()\n",
    "        pag_scans = self._obter_scans(url)\n",
    "        manga = MangaCapitulo(nome=nome, capitulo=capitulo, qtde_paginas=len(list(pag_scans.keys())))\n",
    "        for pag, imgs in pag_scans.items():\n",
    "            pagina = MangaPagina(manga_capitulo_id=manga.id, pagina=int(pag), imagens=imgs)\n",
    "            manga.adicionar_pagina(pagina)\n",
    "        return manga\n"
   ]
  },
  {
   "attachments": {},
   "cell_type": "markdown",
   "metadata": {},
   "source": [
    "## Extração"
   ]
  },
  {
   "cell_type": "code",
   "execution_count": 8,
   "metadata": {},
   "outputs": [
    {
     "name": "stdout",
     "output_type": "stream",
     "text": [
      "pagina: 1\n",
      "pagina: 2\n",
      "pagina: 3\n",
      "pagina: 4\n",
      "pagina: 5\n",
      "pagina: 6\n",
      "pagina: 7\n",
      "pagina: 8\n",
      "pagina: 9\n",
      "pagina: 10\n",
      "pagina: 11\n",
      "pagina: 12\n",
      "pagina: 13\n",
      "pagina: 14\n",
      "pagina: 15\n",
      "pagina: 16\n",
      "pagina: 17\n",
      "pagina: 18\n",
      "pagina: 19\n",
      "pagina: 20\n",
      "pagina: 21\n",
      "pagina: 22\n",
      "pagina: 23\n",
      "pagina: 24\n",
      "pagina: 25\n",
      "pagina: 26\n",
      "pagina: 27\n"
     ]
    },
    {
     "data": {
      "text/plain": [
       "<MangaCapitulo id='140140561422304'>"
      ]
     },
     "execution_count": 8,
     "metadata": {},
     "output_type": "execute_result"
    }
   ],
   "source": [
    "mangalivre = MangaLivre()\n",
    "manga = mangalivre.extrair_manga(\n",
    "    nome=\"One Punch Man\",\n",
    "    url=\"https://mangalivre.net/ler/one-punch-man/online/428424/211\",\n",
    ")\n",
    "manga"
   ]
  },
  {
   "cell_type": "code",
   "execution_count": 9,
   "metadata": {},
   "outputs": [
    {
     "name": "stdout",
     "output_type": "stream",
     "text": [
      "{'nome': 'One Punch Man', 'capitulo': '211', 'qtde_paginas': 28, 'id': 140140561422304, 'paginas': [<MangaPagina id='140140561427392'>, <MangaPagina id='140140561421728'>, <MangaPagina id='140140561418560'>, <MangaPagina id='140140561427344'>, <MangaPagina id='140140561511520'>, <MangaPagina id='140140605665920'>, <MangaPagina id='140140605654976'>, <MangaPagina id='140140605653680'>, <MangaPagina id='140140563210464'>, <MangaPagina id='140140562347968'>, <MangaPagina id='140140562341776'>, <MangaPagina id='140140562338416'>, <MangaPagina id='140140562349168'>, <MangaPagina id='140140562342496'>, <MangaPagina id='140140610626000'>, <MangaPagina id='140140605626528'>, <MangaPagina id='140140605634928'>, <MangaPagina id='140140605630464'>, <MangaPagina id='140140605633824'>, <MangaPagina id='140140606055440'>, <MangaPagina id='140140606057744'>, <MangaPagina id='140140560666480'>, <MangaPagina id='140140560671184'>, <MangaPagina id='140140560666288'>, <MangaPagina id='140140560678432'>, <MangaPagina id='140140560669408'>, <MangaPagina id='140140560668064'>, <MangaPagina id='140140560670464'>]}\n",
      "{'pagina': 1, 'imagens': ['https://static3.mangalivre.net/capas/7vduFh2Q-L7fsDxtets9zQ/1036/thumb_6029419421cd0external_cover.jpg'], 'manga_capitulo_id': 140140561422304, 'id': 140140561427392}\n",
      "{'pagina': 2, 'imagens': ['https://static3.mangalivre.net/capas/7vduFh2Q-L7fsDxtets9zQ/1036/thumb_6029419421cd0external_cover.jpg'], 'manga_capitulo_id': 140140561422304, 'id': 140140561421728}\n",
      "{'pagina': 3, 'imagens': ['https://static3.mangalivre.net/capas/7vduFh2Q-L7fsDxtets9zQ/1036/thumb_6029419421cd0external_cover.jpg'], 'manga_capitulo_id': 140140561422304, 'id': 140140561418560}\n",
      "{'pagina': 4, 'imagens': ['https://static3.mangalivre.net/capas/7vduFh2Q-L7fsDxtets9zQ/1036/thumb_6029419421cd0external_cover.jpg'], 'manga_capitulo_id': 140140561422304, 'id': 140140561427344}\n",
      "{'pagina': 5, 'imagens': ['https://static3.mangalivre.net/capas/7vduFh2Q-L7fsDxtets9zQ/1036/thumb_6029419421cd0external_cover.jpg'], 'manga_capitulo_id': 140140561422304, 'id': 140140561511520}\n",
      "{'pagina': 6, 'imagens': ['https://static3.mangalivre.net/capas/7vduFh2Q-L7fsDxtets9zQ/1036/thumb_6029419421cd0external_cover.jpg'], 'manga_capitulo_id': 140140561422304, 'id': 140140605665920}\n",
      "{'pagina': 7, 'imagens': ['https://static3.mangalivre.net/capas/7vduFh2Q-L7fsDxtets9zQ/1036/thumb_6029419421cd0external_cover.jpg'], 'manga_capitulo_id': 140140561422304, 'id': 140140605654976}\n",
      "{'pagina': 8, 'imagens': ['https://static3.mangalivre.net/capas/7vduFh2Q-L7fsDxtets9zQ/1036/thumb_6029419421cd0external_cover.jpg'], 'manga_capitulo_id': 140140561422304, 'id': 140140605653680}\n",
      "{'pagina': 9, 'imagens': ['https://static3.mangalivre.net/capas/7vduFh2Q-L7fsDxtets9zQ/1036/thumb_6029419421cd0external_cover.jpg'], 'manga_capitulo_id': 140140561422304, 'id': 140140563210464}\n",
      "{'pagina': 10, 'imagens': ['https://static3.mangalivre.net/capas/7vduFh2Q-L7fsDxtets9zQ/1036/thumb_6029419421cd0external_cover.jpg'], 'manga_capitulo_id': 140140561422304, 'id': 140140562347968}\n",
      "{'pagina': 11, 'imagens': ['https://static3.mangalivre.net/capas/7vduFh2Q-L7fsDxtets9zQ/1036/thumb_6029419421cd0external_cover.jpg'], 'manga_capitulo_id': 140140561422304, 'id': 140140562341776}\n",
      "{'pagina': 12, 'imagens': ['https://static3.mangalivre.net/capas/7vduFh2Q-L7fsDxtets9zQ/1036/thumb_6029419421cd0external_cover.jpg'], 'manga_capitulo_id': 140140561422304, 'id': 140140562338416}\n",
      "{'pagina': 13, 'imagens': ['https://static3.mangalivre.net/capas/7vduFh2Q-L7fsDxtets9zQ/1036/thumb_6029419421cd0external_cover.jpg'], 'manga_capitulo_id': 140140561422304, 'id': 140140562349168}\n",
      "{'pagina': 14, 'imagens': ['https://static3.mangalivre.net/capas/7vduFh2Q-L7fsDxtets9zQ/1036/thumb_6029419421cd0external_cover.jpg'], 'manga_capitulo_id': 140140561422304, 'id': 140140562342496}\n",
      "{'pagina': 15, 'imagens': ['https://static3.mangalivre.net/capas/7vduFh2Q-L7fsDxtets9zQ/1036/thumb_6029419421cd0external_cover.jpg'], 'manga_capitulo_id': 140140561422304, 'id': 140140610626000}\n",
      "{'pagina': 16, 'imagens': ['https://static3.mangalivre.net/capas/7vduFh2Q-L7fsDxtets9zQ/1036/thumb_6029419421cd0external_cover.jpg'], 'manga_capitulo_id': 140140561422304, 'id': 140140605626528}\n",
      "{'pagina': 17, 'imagens': ['https://static3.mangalivre.net/capas/7vduFh2Q-L7fsDxtets9zQ/1036/thumb_6029419421cd0external_cover.jpg'], 'manga_capitulo_id': 140140561422304, 'id': 140140605634928}\n",
      "{'pagina': 18, 'imagens': ['https://static3.mangalivre.net/capas/7vduFh2Q-L7fsDxtets9zQ/1036/thumb_6029419421cd0external_cover.jpg'], 'manga_capitulo_id': 140140561422304, 'id': 140140605630464}\n",
      "{'pagina': 19, 'imagens': ['https://static3.mangalivre.net/capas/7vduFh2Q-L7fsDxtets9zQ/1036/thumb_6029419421cd0external_cover.jpg'], 'manga_capitulo_id': 140140561422304, 'id': 140140605633824}\n",
      "{'pagina': 20, 'imagens': ['https://static3.mangalivre.net/capas/7vduFh2Q-L7fsDxtets9zQ/1036/thumb_6029419421cd0external_cover.jpg'], 'manga_capitulo_id': 140140561422304, 'id': 140140606055440}\n",
      "{'pagina': 21, 'imagens': ['https://static3.mangalivre.net/capas/7vduFh2Q-L7fsDxtets9zQ/1036/thumb_6029419421cd0external_cover.jpg'], 'manga_capitulo_id': 140140561422304, 'id': 140140606057744}\n",
      "{'pagina': 22, 'imagens': ['https://static3.mangalivre.net/capas/7vduFh2Q-L7fsDxtets9zQ/1036/thumb_6029419421cd0external_cover.jpg'], 'manga_capitulo_id': 140140561422304, 'id': 140140560666480}\n",
      "{'pagina': 23, 'imagens': ['https://static3.mangalivre.net/capas/7vduFh2Q-L7fsDxtets9zQ/1036/thumb_6029419421cd0external_cover.jpg'], 'manga_capitulo_id': 140140561422304, 'id': 140140560671184}\n",
      "{'pagina': 24, 'imagens': ['https://static3.mangalivre.net/capas/7vduFh2Q-L7fsDxtets9zQ/1036/thumb_6029419421cd0external_cover.jpg'], 'manga_capitulo_id': 140140561422304, 'id': 140140560666288}\n",
      "{'pagina': 25, 'imagens': ['https://static3.mangalivre.net/capas/7vduFh2Q-L7fsDxtets9zQ/1036/thumb_6029419421cd0external_cover.jpg'], 'manga_capitulo_id': 140140561422304, 'id': 140140560678432}\n",
      "{'pagina': 26, 'imagens': ['https://static3.mangalivre.net/capas/7vduFh2Q-L7fsDxtets9zQ/1036/thumb_6029419421cd0external_cover.jpg'], 'manga_capitulo_id': 140140561422304, 'id': 140140560669408}\n",
      "{'pagina': 27, 'imagens': ['https://static3.mangalivre.net/capas/7vduFh2Q-L7fsDxtets9zQ/1036/thumb_6029419421cd0external_cover.jpg'], 'manga_capitulo_id': 140140561422304, 'id': 140140560668064}\n",
      "{'pagina': 28, 'imagens': ['https://static3.mangalivre.net/capas/7vduFh2Q-L7fsDxtets9zQ/1036/thumb_6029419421cd0external_cover.jpg'], 'manga_capitulo_id': 140140561422304, 'id': 140140560670464}\n"
     ]
    }
   ],
   "source": [
    "print(manga.__dict__)\n",
    "for pagina in manga.paginas:\n",
    "    print(pagina.__dict__)"
   ]
  },
  {
   "cell_type": "code",
   "execution_count": null,
   "metadata": {},
   "outputs": [],
   "source": [
    "from IPython import display\n",
    "import requests\n",
    "\n",
    "for pagina in manga.paginas[10:]:\n",
    "    for url in pagina.imagens:\n",
    "        content = requests.get(url).content\n",
    "        break\n",
    "    break\n",
    "\n",
    "display.Image(content)"
   ]
  },
  {
   "attachments": {},
   "cell_type": "markdown",
   "metadata": {},
   "source": [
    "## Desenvolvimento"
   ]
  },
  {
   "cell_type": "code",
   "execution_count": null,
   "metadata": {},
   "outputs": [],
   "source": [
    "chrome_webdriver = ChromeWebDriver()\n",
    "webdriver = chrome_webdriver.webdriver\n",
    "webdriver"
   ]
  },
  {
   "cell_type": "code",
   "execution_count": null,
   "metadata": {},
   "outputs": [],
   "source": [
    "def imagens(url: str) -> list[str]:\n",
    "    images = [] \n",
    "    xpath_image = '//div[@class=\"manga-image\"]/picture/img'\n",
    "    webdriver.get(url)\n",
    "    for elem in webdriver.find_elements(By.XPATH, xpath_image):\n",
    "        images.append((0, elem.get_attribute(\"src\")))\n",
    "    \n",
    "    total = int(webdriver.find_element(By.XPATH, '//em[@reader-total-pages=\"\"]').text)\n",
    "\n",
    "    for n in range(1, total):\n",
    "        webdriver.get(f\"{url}#/!page{n!s}\")        \n",
    "        for elem in webdriver.find_elements(By.XPATH, xpath_image):\n",
    "            images.append((n, elem.get_attribute(\"src\")))\n",
    "\n",
    "    return images"
   ]
  },
  {
   "cell_type": "code",
   "execution_count": null,
   "metadata": {},
   "outputs": [],
   "source": [
    "imgs = imagens(\"https://mangalivre.net/ler/one-punch-man/online/428424/211\")\n",
    "imgs"
   ]
  },
  {
   "cell_type": "code",
   "execution_count": null,
   "metadata": {},
   "outputs": [],
   "source": [
    "url = \"https://mangalivre.net/ler/one-punch-man/online/428424/211#/!page4\"\n",
    "xpath_image = '//div[@class=\"manga-image\"]/picture/img'\n",
    "images = []\n",
    "with ChromeWebDriver() as webdriver:\n",
    "    webdriver.get(url)\n",
    "    elems = webdriver.find_elements(By.XPATH, xpath_image)\n",
    "    for elem in elems:\n",
    "        images.append((0, elem.get_attribute(\"src\")))\n"
   ]
  },
  {
   "cell_type": "code",
   "execution_count": null,
   "metadata": {},
   "outputs": [],
   "source": [
    "url = \"https://mangalivre.net/ler/one-punch-man/online/428424/211#/!page4\"\n",
    "with ChromeWebDriver() as webdriver:\n",
    "    webdriver.get(url)\n",
    "    source = webdriver.page_source\n",
    "    \n",
    "with open(\"./files/page.html\", \"w\") as fout:\n",
    "    fout.write(source)"
   ]
  },
  {
   "cell_type": "code",
   "execution_count": null,
   "metadata": {},
   "outputs": [],
   "source": [
    "webdriver.find_element(By.XPATH, '//em[@reader-total-pages=\"\"]').text\n"
   ]
  },
  {
   "cell_type": "code",
   "execution_count": null,
   "metadata": {},
   "outputs": [],
   "source": [
    "from IPython import display\n",
    "\n",
    "display.HTML(f'<img src=\"{images[0][1]}\"/>')"
   ]
  },
  {
   "cell_type": "code",
   "execution_count": null,
   "metadata": {},
   "outputs": [],
   "source": [
    "webdriver.quit()"
   ]
  }
 ],
 "metadata": {
  "kernelspec": {
   "display_name": ".venv",
   "language": "python",
   "name": "python3"
  },
  "language_info": {
   "codemirror_mode": {
    "name": "ipython",
    "version": 3
   },
   "file_extension": ".py",
   "mimetype": "text/x-python",
   "name": "python",
   "nbconvert_exporter": "python",
   "pygments_lexer": "ipython3",
   "version": "3.10.4"
  },
  "orig_nbformat": 4,
  "vscode": {
   "interpreter": {
    "hash": "6c5ca7531f59fa0228d3041ec16587b2d14eed0a831b158ef3a275f8b2515388"
   }
  }
 },
 "nbformat": 4,
 "nbformat_minor": 2
}
