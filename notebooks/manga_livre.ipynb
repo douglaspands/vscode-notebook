{
 "cells": [
  {
   "attachments": {},
   "cell_type": "markdown",
   "metadata": {},
   "source": [
    "# EXTRAÇÃO DE MANGA PELO SITE MANGALIVRE"
   ]
  },
  {
   "attachments": {},
   "cell_type": "markdown",
   "metadata": {},
   "source": [
    "## Setup\n",
    "\n",
    "É necessario fazer a instalação das seguintes dependencias do SO Linux (Ubuntu):\n",
    "\n",
    "```bash\n",
    "sudo apt update -qq && sudo apt install --no-install-recommends -y chromium-chromedriver openssl\n",
    "```\n",
    "\n",
    "E também é necessario a instalação das dependencias do Python abaixo:"
   ]
  },
  {
   "cell_type": "code",
   "execution_count": 3,
   "metadata": {},
   "outputs": [
    {
     "name": "stdout",
     "output_type": "stream",
     "text": [
      "The following packages are already present in the pyproject.toml and will be skipped:\n",
      "\n",
      "  • \u001b[36mpydash\u001b[0m\n",
      "  • \u001b[36mselenium-wire\u001b[0m\n",
      "\n",
      "If you want to update it to the latest compatible version, you can use `poetry update package`.\n",
      "If you prefer to upgrade it to the latest available version, you can use `poetry add package@latest`.\n",
      "\n",
      "Nothing to add.\n",
      "Python 3.10.4\n"
     ]
    }
   ],
   "source": [
    "! poetry add pydash selenium-wire"
   ]
  },
  {
   "cell_type": "code",
   "execution_count": 7,
   "metadata": {},
   "outputs": [],
   "source": [
    "import traceback\n",
    "from selenium.webdriver.chrome.options import Options\n",
    "from selenium.webdriver.chrome.webdriver import WebDriver\n",
    "from seleniumwire.webdriver import Chrome\n",
    "from selenium.webdriver.common.by import By\n",
    "from pathlib import Path\n",
    "\n",
    "FILE_DIR = str(Path(\".\").resolve())\n",
    "USER_AGENT = \"Mozilla/5.0 (Windows NT 10.0; Win64; x64) AppleWebKit/537.36 (KHTML, like Gecko) Chrome/108.0.0.0 Safari/537.36\"\n",
    "\n",
    "\n",
    "class ChromeWebDriver:\n",
    "    def __init__(self, implicitly_wait: int = 0, headers: dict[str, str] = None):\n",
    "        self._webdriver: WebDriver = None\n",
    "        self._implicitly_wait = implicitly_wait\n",
    "        self._options = Options()\n",
    "        prefs = {\n",
    "            \"download.default_directory\": FILE_DIR,\n",
    "            \"download.prompt_for_download\": False,\n",
    "            \"directory_upgrade\": True,\n",
    "            \"safebrowsing.enabled\": True,\n",
    "        }\n",
    "        self._headers = headers if headers and isinstance(headers, dict) else {}\n",
    "        if not self._headers.get(\"user-agent\"):\n",
    "            self._headers[\"user-agent\"] = USER_AGENT\n",
    "        self._options.add_experimental_option(\"prefs\", prefs)\n",
    "        self._options.add_experimental_option(\"excludeSwitches\", [\"load-extension\", \"enable-automation\"])\n",
    "        self._options.add_argument(\"--disable-extensions\")\n",
    "        self._options.add_argument(\"--headless\")\n",
    "        self._options.add_argument(\"--no-sandbox\")\n",
    "        self._options.add_argument(\"--disable-dev-shm-usage\")\n",
    "        self._options.add_argument(\"window-size=1366,768\")\n",
    "  \n",
    "    def __enter__(self) -> WebDriver:\n",
    "        return self.webdriver\n",
    " \n",
    "    def __exit__(self, exc_type, exc_value, exc_traceback) -> None:\n",
    "        if exc_type:\n",
    "            print(\"\".join(traceback.format_exception(exc_type, exc_value, exc_traceback)))\n",
    "        self.quit()\n",
    "        self.__del__()\n",
    " \n",
    "    def __del__(self) -> None:\n",
    "        del self\n",
    " \n",
    "    def _interceptor(self, request):\n",
    "        for hk, hv in self._headers.items():\n",
    "            if request.headers.get(hk):\n",
    "                del request.headers[hk]\n",
    "            request.headers[hk] = hv\n",
    "\n",
    "    @property\n",
    "    def webdriver(self) -> WebDriver:\n",
    "        if not self._webdriver:\n",
    "            self._webdriver = Chrome(\"chromedriver\", options=self._options)\n",
    "            self._webdriver.request_interceptor = self._interceptor\n",
    "            if self._implicitly_wait:\n",
    "                self._webdriver.implicitly_wait(self._implicitly_wait)\n",
    "        return self._webdriver\n",
    " \n",
    "    @property\n",
    "    def quit(self) -> None:\n",
    "        if self._webdriver:\n",
    "            self._webdriver.quit()\n",
    "\n",
    "\n",
    "class MangaLivre:\n",
    "    def __init__(self):\n",
    "        self._webdriver = ChromeWebDriver()\n",
    "\n",
    "    def extrair_manga(self, url: str):\n",
    "        with self._webdriver as webdriver:\n",
    "            pass\n"
   ]
  },
  {
   "attachments": {},
   "cell_type": "markdown",
   "metadata": {},
   "source": [
    "## Extração"
   ]
  },
  {
   "cell_type": "code",
   "execution_count": null,
   "metadata": {},
   "outputs": [],
   "source": []
  },
  {
   "attachments": {},
   "cell_type": "markdown",
   "metadata": {},
   "source": [
    "## Desenvolvimento"
   ]
  },
  {
   "cell_type": "code",
   "execution_count": 8,
   "metadata": {},
   "outputs": [
    {
     "ename": "WebDriverException",
     "evalue": "Message: Service chromedriver unexpectedly exited. Status code was: 1\n",
     "output_type": "error",
     "traceback": [
      "\u001b[0;31m---------------------------------------------------------------------------\u001b[0m",
      "\u001b[0;31mWebDriverException\u001b[0m                        Traceback (most recent call last)",
      "Cell \u001b[0;32mIn[8], line 2\u001b[0m\n\u001b[1;32m      1\u001b[0m chrome_webdriver \u001b[39m=\u001b[39m ChromeWebDriver()\n\u001b[0;32m----> 2\u001b[0m webdriver \u001b[39m=\u001b[39m chrome_webdriver\u001b[39m.\u001b[39;49mwebdriver\n\u001b[1;32m      3\u001b[0m webdriver\n",
      "Cell \u001b[0;32mIn[7], line 55\u001b[0m, in \u001b[0;36mChromeWebDriver.webdriver\u001b[0;34m(self)\u001b[0m\n\u001b[1;32m     52\u001b[0m \u001b[39m@property\u001b[39m\n\u001b[1;32m     53\u001b[0m \u001b[39mdef\u001b[39;00m \u001b[39mwebdriver\u001b[39m(\u001b[39mself\u001b[39m) \u001b[39m-\u001b[39m\u001b[39m>\u001b[39m WebDriver:\n\u001b[1;32m     54\u001b[0m     \u001b[39mif\u001b[39;00m \u001b[39mnot\u001b[39;00m \u001b[39mself\u001b[39m\u001b[39m.\u001b[39m_webdriver:\n\u001b[0;32m---> 55\u001b[0m         \u001b[39mself\u001b[39m\u001b[39m.\u001b[39m_webdriver \u001b[39m=\u001b[39m Chrome(\u001b[39m\"\u001b[39;49m\u001b[39mchromedriver\u001b[39;49m\u001b[39m\"\u001b[39;49m, options\u001b[39m=\u001b[39;49m\u001b[39mself\u001b[39;49m\u001b[39m.\u001b[39;49m_options)\n\u001b[1;32m     56\u001b[0m         \u001b[39mself\u001b[39m\u001b[39m.\u001b[39m_webdriver\u001b[39m.\u001b[39mrequest_interceptor \u001b[39m=\u001b[39m \u001b[39mself\u001b[39m\u001b[39m.\u001b[39m_interceptor\n\u001b[1;32m     57\u001b[0m         \u001b[39mif\u001b[39;00m \u001b[39mself\u001b[39m\u001b[39m.\u001b[39m_implicitly_wait:\n",
      "File \u001b[0;32m~/workspace/vscode-notebook/.venv/lib/python3.10/site-packages/seleniumwire/webdriver.py:218\u001b[0m, in \u001b[0;36mChrome.__init__\u001b[0;34m(self, seleniumwire_options, *args, **kwargs)\u001b[0m\n\u001b[1;32m    215\u001b[0m         caps \u001b[39m=\u001b[39m kwargs\u001b[39m.\u001b[39msetdefault(\u001b[39m'\u001b[39m\u001b[39mdesired_capabilities\u001b[39m\u001b[39m'\u001b[39m, DesiredCapabilities\u001b[39m.\u001b[39mCHROME\u001b[39m.\u001b[39mcopy())\n\u001b[1;32m    216\u001b[0m         caps\u001b[39m.\u001b[39mupdate(config)\n\u001b[0;32m--> 218\u001b[0m \u001b[39msuper\u001b[39;49m()\u001b[39m.\u001b[39;49m\u001b[39m__init__\u001b[39;49m(\u001b[39m*\u001b[39;49margs, \u001b[39m*\u001b[39;49m\u001b[39m*\u001b[39;49mkwargs)\n",
      "File \u001b[0;32m~/workspace/vscode-notebook/.venv/lib/python3.10/site-packages/selenium/webdriver/chrome/webdriver.py:81\u001b[0m, in \u001b[0;36mWebDriver.__init__\u001b[0;34m(self, executable_path, port, options, service_args, desired_capabilities, service_log_path, chrome_options, service, keep_alive)\u001b[0m\n\u001b[1;32m     78\u001b[0m \u001b[39mif\u001b[39;00m \u001b[39mnot\u001b[39;00m service:\n\u001b[1;32m     79\u001b[0m     service \u001b[39m=\u001b[39m Service(executable_path, port, service_args, service_log_path)\n\u001b[0;32m---> 81\u001b[0m \u001b[39msuper\u001b[39;49m()\u001b[39m.\u001b[39;49m\u001b[39m__init__\u001b[39;49m(\n\u001b[1;32m     82\u001b[0m     DesiredCapabilities\u001b[39m.\u001b[39;49mCHROME[\u001b[39m\"\u001b[39;49m\u001b[39mbrowserName\u001b[39;49m\u001b[39m\"\u001b[39;49m],\n\u001b[1;32m     83\u001b[0m     \u001b[39m\"\u001b[39;49m\u001b[39mgoog\u001b[39;49m\u001b[39m\"\u001b[39;49m,\n\u001b[1;32m     84\u001b[0m     port,\n\u001b[1;32m     85\u001b[0m     options,\n\u001b[1;32m     86\u001b[0m     service_args,\n\u001b[1;32m     87\u001b[0m     desired_capabilities,\n\u001b[1;32m     88\u001b[0m     service_log_path,\n\u001b[1;32m     89\u001b[0m     service,\n\u001b[1;32m     90\u001b[0m     keep_alive,\n\u001b[1;32m     91\u001b[0m )\n",
      "File \u001b[0;32m~/workspace/vscode-notebook/.venv/lib/python3.10/site-packages/selenium/webdriver/chromium/webdriver.py:103\u001b[0m, in \u001b[0;36mChromiumDriver.__init__\u001b[0;34m(self, browser_name, vendor_prefix, port, options, service_args, desired_capabilities, service_log_path, service, keep_alive)\u001b[0m\n\u001b[1;32m    100\u001b[0m     \u001b[39mraise\u001b[39;00m \u001b[39mAttributeError\u001b[39;00m(\u001b[39m\"\u001b[39m\u001b[39mservice cannot be None\u001b[39m\u001b[39m\"\u001b[39m)\n\u001b[1;32m    102\u001b[0m \u001b[39mself\u001b[39m\u001b[39m.\u001b[39mservice \u001b[39m=\u001b[39m service\n\u001b[0;32m--> 103\u001b[0m \u001b[39mself\u001b[39;49m\u001b[39m.\u001b[39;49mservice\u001b[39m.\u001b[39;49mstart()\n\u001b[1;32m    105\u001b[0m \u001b[39mtry\u001b[39;00m:\n\u001b[1;32m    106\u001b[0m     \u001b[39msuper\u001b[39m()\u001b[39m.\u001b[39m\u001b[39m__init__\u001b[39m(\n\u001b[1;32m    107\u001b[0m         command_executor\u001b[39m=\u001b[39mChromiumRemoteConnection(\n\u001b[1;32m    108\u001b[0m             remote_server_addr\u001b[39m=\u001b[39m\u001b[39mself\u001b[39m\u001b[39m.\u001b[39mservice\u001b[39m.\u001b[39mservice_url,\n\u001b[0;32m   (...)\u001b[0m\n\u001b[1;32m    114\u001b[0m         options\u001b[39m=\u001b[39moptions,\n\u001b[1;32m    115\u001b[0m     )\n",
      "File \u001b[0;32m~/workspace/vscode-notebook/.venv/lib/python3.10/site-packages/selenium/webdriver/common/service.py:106\u001b[0m, in \u001b[0;36mService.start\u001b[0;34m(self)\u001b[0m\n\u001b[1;32m    104\u001b[0m count \u001b[39m=\u001b[39m \u001b[39m0\u001b[39m\n\u001b[1;32m    105\u001b[0m \u001b[39mwhile\u001b[39;00m \u001b[39mTrue\u001b[39;00m:\n\u001b[0;32m--> 106\u001b[0m     \u001b[39mself\u001b[39;49m\u001b[39m.\u001b[39;49massert_process_still_running()\n\u001b[1;32m    107\u001b[0m     \u001b[39mif\u001b[39;00m \u001b[39mself\u001b[39m\u001b[39m.\u001b[39mis_connectable():\n\u001b[1;32m    108\u001b[0m         \u001b[39mbreak\u001b[39;00m\n",
      "File \u001b[0;32m~/workspace/vscode-notebook/.venv/lib/python3.10/site-packages/selenium/webdriver/common/service.py:119\u001b[0m, in \u001b[0;36mService.assert_process_still_running\u001b[0;34m(self)\u001b[0m\n\u001b[1;32m    117\u001b[0m return_code \u001b[39m=\u001b[39m \u001b[39mself\u001b[39m\u001b[39m.\u001b[39mprocess\u001b[39m.\u001b[39mpoll()\n\u001b[1;32m    118\u001b[0m \u001b[39mif\u001b[39;00m return_code:\n\u001b[0;32m--> 119\u001b[0m     \u001b[39mraise\u001b[39;00m WebDriverException(\u001b[39mf\u001b[39m\u001b[39m\"\u001b[39m\u001b[39mService \u001b[39m\u001b[39m{\u001b[39;00m\u001b[39mself\u001b[39m\u001b[39m.\u001b[39mpath\u001b[39m}\u001b[39;00m\u001b[39m unexpectedly exited. Status code was: \u001b[39m\u001b[39m{\u001b[39;00mreturn_code\u001b[39m}\u001b[39;00m\u001b[39m\"\u001b[39m)\n",
      "\u001b[0;31mWebDriverException\u001b[0m: Message: Service chromedriver unexpectedly exited. Status code was: 1\n"
     ]
    }
   ],
   "source": [
    "chrome_webdriver = ChromeWebDriver()\n",
    "webdriver = chrome_webdriver.webdriver\n",
    "webdriver"
   ]
  },
  {
   "cell_type": "code",
   "execution_count": null,
   "metadata": {},
   "outputs": [],
   "source": [
    "url = \"https://mangalivre.net/ler/one-punch-man/online/428424/211\"\n",
    "webdriver.get(url)\n",
    "webdriver.page_source"
   ]
  }
 ],
 "metadata": {
  "kernelspec": {
   "display_name": ".venv",
   "language": "python",
   "name": "python3"
  },
  "language_info": {
   "codemirror_mode": {
    "name": "ipython",
    "version": 3
   },
   "file_extension": ".py",
   "mimetype": "text/x-python",
   "name": "python",
   "nbconvert_exporter": "python",
   "pygments_lexer": "ipython3",
   "version": "3.10.4"
  },
  "orig_nbformat": 4,
  "vscode": {
   "interpreter": {
    "hash": "6c5ca7531f59fa0228d3041ec16587b2d14eed0a831b158ef3a275f8b2515388"
   }
  }
 },
 "nbformat": 4,
 "nbformat_minor": 2
}
