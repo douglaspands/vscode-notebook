{
 "cells": [
  {
   "attachments": {},
   "cell_type": "markdown",
   "metadata": {},
   "source": [
    "# Medium\n",
    "Tem como objetivo baixar o artigo do site Medium."
   ]
  },
  {
   "attachments": {},
   "cell_type": "markdown",
   "metadata": {},
   "source": [
    "## Setup"
   ]
  },
  {
   "cell_type": "code",
   "execution_count": null,
   "metadata": {},
   "outputs": [],
   "source": [
    "from __future__ import annotations\n",
    "from app.core.chrome_webdriver import ChromeWebDriver\n",
    "from app import config\n",
    "\n",
    "\n",
    "class MediumDownloader:\n",
    "    DELAY = 10\n",
    "\n",
    "    def __init__(self, **kwargs):\n",
    "        self._chrome_webdriver = ChromeWebDriver(implicitly_wait=self.DELAY, **kwargs)\n",
    "        self._folder_download = config.ROOT_PATH.joinpath(\"medium\")\n",
    "        self._folder_download.mkdir(parents=True, exist_ok=True)\n",
    "\n",
    "    def baixar_artigo(self, url: str):\n",
    "        pass\n"
   ]
  },
  {
   "cell_type": "code",
   "execution_count": null,
   "metadata": {},
   "outputs": [],
   "source": [
    "class WebDriverTools:\n",
    "    INFINITE_SCROLL_TIME = 5\n",
    "    IFRAME_WAIT = 40\n",
    "\n",
    "    def __init__(self, webdriver: WebDriver):\n",
    "        self.webdriver = webdriver\n",
    "\n",
    "    def save_screen(self):\n",
    "        file_path = str(FILE_PATH.resolve().joinpath(f\"prints/{uuid4()!s}.png\"))\n",
    "        self.webdriver.save_screenshot(file_path)\n",
    "        print(f\">> print {self.webdriver.current_url=} / {file_path=}\")\n",
    "\n",
    "    def scroll_to_end(self):\n",
    "        screen_height = self.webdriver.execute_script(\"return window.screen.height;\")\n",
    "        i = 1\n",
    "        while True:\n",
    "            self.webdriver.execute_script(\n",
    "                \"window.scrollTo(0, {screen_height}*{i});\".format(\n",
    "                    screen_height=screen_height, i=i\n",
    "                )\n",
    "            )\n",
    "            i += 1\n",
    "            time.sleep(self.INFINITE_SCROLL_TIME)\n",
    "            scroll_height = self.webdriver.execute_script(\n",
    "                \"return document.body.scrollHeight;\"\n",
    "            )\n",
    "            if (screen_height) * i > scroll_height:\n",
    "                break\n",
    "\n",
    "    @property\n",
    "    def source(self) -> str:\n",
    "        wait = WebDriverWait(self.webdriver, self.IFRAME_WAIT)\n",
    "        wait.until(EC.frame_to_be_available_and_switch_to_it((By.XPATH, \"//iframe\")))\n",
    "        return self.webdriver.execute_script(\"return document.body.innerHTML;\")\n"
   ]
  },
  {
   "attachments": {},
   "cell_type": "markdown",
   "metadata": {},
   "source": [
    "## Executar"
   ]
  },
  {
   "cell_type": "code",
   "execution_count": null,
   "metadata": {},
   "outputs": [],
   "source": [
    "medium_url = \"https://dorianlazar.medium.com/scraping-medium-with-python-beautiful-soup-3314f898bbf5\""
   ]
  },
  {
   "cell_type": "code",
   "execution_count": null,
   "metadata": {},
   "outputs": [],
   "source": []
  },
  {
   "attachments": {},
   "cell_type": "markdown",
   "metadata": {},
   "source": [
    "## Desenvolvimento"
   ]
  },
  {
   "cell_type": "code",
   "execution_count": null,
   "metadata": {},
   "outputs": [],
   "source": [
    "chrome_webdriver = ChromeWebDriver(headless=False)\n",
    "webdriver = chrome_webdriver.webdriver\n",
    "webdriver"
   ]
  },
  {
   "cell_type": "code",
   "execution_count": null,
   "metadata": {},
   "outputs": [],
   "source": [
    "webdriver.get(medium_url)"
   ]
  },
  {
   "cell_type": "code",
   "execution_count": null,
   "metadata": {},
   "outputs": [],
   "source": [
    "tools = WebDriverTools(webdriver=webdriver)\n",
    "tools"
   ]
  },
  {
   "cell_type": "code",
   "execution_count": null,
   "metadata": {},
   "outputs": [],
   "source": [
    "tools.scroll_to_end()"
   ]
  },
  {
   "cell_type": "code",
   "execution_count": null,
   "metadata": {},
   "outputs": [],
   "source": [
    "html = tools.get_source"
   ]
  },
  {
   "cell_type": "code",
   "execution_count": null,
   "metadata": {},
   "outputs": [],
   "source": [
    "html"
   ]
  },
  {
   "cell_type": "code",
   "execution_count": null,
   "metadata": {},
   "outputs": [],
   "source": [
    "from IPython.display import HTML\n",
    "\n",
    "HTML(html)"
   ]
  },
  {
   "cell_type": "code",
   "execution_count": null,
   "metadata": {},
   "outputs": [],
   "source": [
    "chrome_webdriver.quit()"
   ]
  },
  {
   "cell_type": "code",
   "execution_count": null,
   "metadata": {},
   "outputs": [],
   "source": [
    "import requests\n",
    "from bs4 import BeautifulSoup\n",
    "\n",
    "\n",
    "def acessar_site(url: str) -> BeautifulSoup:\n",
    "    response = requests.get(url, allow_redirects=True)\n",
    "    return BeautifulSoup(response.content, 'html.parser')\n"
   ]
  },
  {
   "cell_type": "code",
   "execution_count": null,
   "metadata": {},
   "outputs": [],
   "source": [
    "soup = acessar_site(\n",
    "    url=\"https://dorianlazar.medium.com/scraping-medium-with-python-beautiful-soup-3314f898bbf5\"\n",
    ")\n",
    "soup"
   ]
  },
  {
   "cell_type": "code",
   "execution_count": null,
   "metadata": {},
   "outputs": [],
   "source": [
    "soup.find_all(\n",
    "            \"div\",\n",
    "            class_=\"postArticle postArticle--short js-postArticle js-trackPostPresentation js-trackPostScrolls\")"
   ]
  }
 ],
 "metadata": {
  "kernelspec": {
   "display_name": ".venv",
   "language": "python",
   "name": "python3"
  },
  "language_info": {
   "codemirror_mode": {
    "name": "ipython",
    "version": 3
   },
   "file_extension": ".py",
   "mimetype": "text/x-python",
   "name": "python",
   "nbconvert_exporter": "python",
   "pygments_lexer": "ipython3",
   "version": "3.10.10"
  },
  "orig_nbformat": 4,
  "vscode": {
   "interpreter": {
    "hash": "6c5ca7531f59fa0228d3041ec16587b2d14eed0a831b158ef3a275f8b2515388"
   }
  }
 },
 "nbformat": 4,
 "nbformat_minor": 2
}
