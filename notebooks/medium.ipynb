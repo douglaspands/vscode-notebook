{
 "cells": [
  {
   "attachments": {},
   "cell_type": "markdown",
   "metadata": {},
   "source": [
    "# Medium\n",
    "Tem como objetivo baixar o artigo do site Medium."
   ]
  },
  {
   "attachments": {},
   "cell_type": "markdown",
   "metadata": {},
   "source": [
    "## Setup"
   ]
  },
  {
   "cell_type": "code",
   "execution_count": 50,
   "metadata": {},
   "outputs": [],
   "source": [
    "from __future__ import annotations\n",
    "from app.core.chrome_webdriver import ChromeWebDriver\n",
    "from app import config\n",
    "\n",
    "\n",
    "class MediumDownloader:\n",
    "    DELAY = 10\n",
    "\n",
    "    def __init__(self, **kwargs):\n",
    "        self._chrome_webdriver = ChromeWebDriver(implicitly_wait=self.DELAY, **kwargs)\n",
    "        self._folder_download = config.ROOT_PATH.joinpath(\"medium\")\n",
    "        self._folder_download.mkdir(parents=True, exist_ok=True)\n",
    "\n",
    "    def baixar_artigo(self, url: str):\n",
    "        pass\n"
   ]
  },
  {
   "cell_type": "code",
   "execution_count": 51,
   "metadata": {},
   "outputs": [],
   "source": [
    "class WebDriverTools:\n",
    "    INFINITE_SCROLL_TIME = 5\n",
    "    IFRAME_WAIT = 40\n",
    "\n",
    "    def __init__(self, webdriver: WebDriver):\n",
    "        self.webdriver = webdriver\n",
    "\n",
    "    def save_screen(self):\n",
    "        file_path = str(FILE_PATH.resolve().joinpath(f\"prints/{uuid4()!s}.png\"))\n",
    "        self.webdriver.save_screenshot(file_path)\n",
    "        print(f\">> print {self.webdriver.current_url=} / {file_path=}\")\n",
    "\n",
    "    def scroll_to_end(self):\n",
    "        screen_height = self.webdriver.execute_script(\"return window.screen.height;\")\n",
    "        i = 1\n",
    "        while True:\n",
    "            self.webdriver.execute_script(\n",
    "                \"window.scrollTo(0, {screen_height}*{i});\".format(\n",
    "                    screen_height=screen_height, i=i\n",
    "                )\n",
    "            )\n",
    "            i += 1\n",
    "            time.sleep(self.INFINITE_SCROLL_TIME)\n",
    "            scroll_height = self.webdriver.execute_script(\n",
    "                \"return document.body.scrollHeight;\"\n",
    "            )\n",
    "            if (screen_height) * i > scroll_height:\n",
    "                break\n",
    "\n",
    "    @property\n",
    "    def source(self) -> str:\n",
    "        wait = WebDriverWait(self.webdriver, self.IFRAME_WAIT)\n",
    "        wait.until(EC.frame_to_be_available_and_switch_to_it((By.XPATH, \"//iframe\")))\n",
    "        return self.webdriver.execute_script(\"return document.body.innerHTML;\")\n"
   ]
  },
  {
   "attachments": {},
   "cell_type": "markdown",
   "metadata": {},
   "source": [
    "## Executar"
   ]
  },
  {
   "cell_type": "code",
   "execution_count": 19,
   "metadata": {},
   "outputs": [],
   "source": [
    "medium_url = \"https://dorianlazar.medium.com/scraping-medium-with-python-beautiful-soup-3314f898bbf5\""
   ]
  },
  {
   "cell_type": "code",
   "execution_count": null,
   "metadata": {},
   "outputs": [],
   "source": []
  },
  {
   "attachments": {},
   "cell_type": "markdown",
   "metadata": {},
   "source": [
    "## Desenvolvimento"
   ]
  },
  {
   "cell_type": "code",
   "execution_count": 52,
   "metadata": {},
   "outputs": [
    {
     "data": {
      "text/plain": [
       "<seleniumwire.webdriver.Chrome (session=\"b2b43417132191cf981127a8ae980c83\")>"
      ]
     },
     "execution_count": 52,
     "metadata": {},
     "output_type": "execute_result"
    }
   ],
   "source": [
    "chrome_webdriver = ChromeWebDriver(headless=False)\n",
    "webdriver = chrome_webdriver.webdriver\n",
    "webdriver"
   ]
  },
  {
   "cell_type": "code",
   "execution_count": 53,
   "metadata": {},
   "outputs": [],
   "source": [
    "webdriver.get(medium_url)"
   ]
  },
  {
   "cell_type": "code",
   "execution_count": 54,
   "metadata": {},
   "outputs": [
    {
     "data": {
      "text/plain": [
       "<__main__.WebDriverTools at 0x7f9aac510580>"
      ]
     },
     "execution_count": 54,
     "metadata": {},
     "output_type": "execute_result"
    }
   ],
   "source": [
    "tools = WebDriverTools(webdriver=webdriver)\n",
    "tools"
   ]
  },
  {
   "cell_type": "code",
   "execution_count": 55,
   "metadata": {},
   "outputs": [],
   "source": [
    "tools.scroll_to_end()"
   ]
  },
  {
   "cell_type": "code",
   "execution_count": 56,
   "metadata": {},
   "outputs": [],
   "source": [
    "html = tools.get_source"
   ]
  },
  {
   "cell_type": "code",
   "execution_count": 58,
   "metadata": {},
   "outputs": [
    {
     "data": {
      "text/plain": [
       "'<style>.gist .gist-file { margin-bottom: 0 !important; }.gist { text-rendering: auto; }</style><script src=\"https://gist.github.com/lazuxd/60602bfed57cc4ed221b8cb3a83c39a5.js\" charset=\"utf-8\"></script><link rel=\"stylesheet\" href=\"https://github.githubassets.com/assets/gist-embed-e2a50fd876da.css\"><div id=\"gist104060274\" class=\"gist\">\\n    <div class=\"gist-file\" translate=\"no\">\\n      <div class=\"gist-data\">\\n        <div class=\"js-gist-file-update-container js-task-list-container file-box\">\\n  <div id=\"file-scraping_medium_impurts-py\" class=\"file my-2\">\\n    \\n    <div itemprop=\"text\" class=\"Box-body p-0 blob-wrapper data type-python  \">\\n\\n        \\n<div class=\"js-check-bidi js-blob-code-container blob-code-content\">\\n\\n  <template class=\"js-file-alert-template\">\\n  <div data-view-component=\"true\" class=\"flash flash-warn flash-full d-flex flex-items-center\">\\n  <svg aria-hidden=\"true\" height=\"16\" viewBox=\"0 0 16 16\" version=\"1.1\" width=\"16\" data-view-component=\"true\" class=\"octicon octicon-alert\">\\n    <path fill-rule=\"evenodd\" d=\"M8.22 1.754a.25.25 0 00-.44 0L1.698 13.132a.25.25 0 00.22.368h12.164a.25.25 0 00.22-.368L8.22 1.754zm-1.763-.707c.659-1.234 2.427-1.234 3.086 0l6.082 11.378A1.75 1.75 0 0114.082 15H1.918a1.75 1.75 0 01-1.543-2.575L6.457 1.047zM9 11a1 1 0 11-2 0 1 1 0 012 0zm-.25-5.25a.75.75 0 00-1.5 0v2.5a.75.75 0 001.5 0v-2.5z\"></path>\\n</svg>\\n  \\n    <span>\\n      This file contains bidirectional Unicode text that may be interpreted or compiled differently than what appears below. To review, open the file in an editor that reveals hidden Unicode characters.\\n      <a href=\"https://github.co/hiddenchars\" target=\"_blank\">Learn more about bidirectional Unicode characters</a>\\n    </span>\\n\\n\\n  <div data-view-component=\"true\" class=\"flash-action\">        <a href=\"{{ revealButtonHref }}\" data-view-component=\"true\" class=\"btn-sm btn\">    Show hidden characters\\n</a>\\n</div>\\n</div></template>\\n<template class=\"js-line-alert-template\">\\n  <span aria-label=\"This line has hidden Unicode characters\" data-view-component=\"true\" class=\"line-alert tooltipped tooltipped-e\">\\n    <svg aria-hidden=\"true\" height=\"16\" viewBox=\"0 0 16 16\" version=\"1.1\" width=\"16\" data-view-component=\"true\" class=\"octicon octicon-alert\">\\n    <path fill-rule=\"evenodd\" d=\"M8.22 1.754a.25.25 0 00-.44 0L1.698 13.132a.25.25 0 00.22.368h12.164a.25.25 0 00.22-.368L8.22 1.754zm-1.763-.707c.659-1.234 2.427-1.234 3.086 0l6.082 11.378A1.75 1.75 0 0114.082 15H1.918a1.75 1.75 0 01-1.543-2.575L6.457 1.047zM9 11a1 1 0 11-2 0 1 1 0 012 0zm-.25-5.25a.75.75 0 00-1.5 0v2.5a.75.75 0 001.5 0v-2.5z\"></path>\\n</svg>\\n</span></template>\\n\\n  <table data-hpc=\"\" class=\"highlight tab-size js-file-line-container js-code-nav-container js-tagsearch-file\" data-tab-size=\"8\" data-paste-markdown-skip=\"\" data-tagsearch-lang=\"Python\" data-tagsearch-path=\"scraping_medium_impurts.py\">\\n        <tbody><tr>\\n          <td id=\"file-scraping_medium_impurts-py-L1\" class=\"blob-num js-line-number js-code-nav-line-number js-blob-rnum\" data-line-number=\"1\"></td>\\n          <td id=\"file-scraping_medium_impurts-py-LC1\" class=\"blob-code blob-code-inner js-file-line\"><span class=\"pl-k\">import</span> <span class=\"pl-s1\">requests</span></td>\\n        </tr>\\n        <tr>\\n          <td id=\"file-scraping_medium_impurts-py-L2\" class=\"blob-num js-line-number js-code-nav-line-number js-blob-rnum\" data-line-number=\"2\"></td>\\n          <td id=\"file-scraping_medium_impurts-py-LC2\" class=\"blob-code blob-code-inner js-file-line\"><span class=\"pl-k\">from</span> <span class=\"pl-s1\">bs4</span> <span class=\"pl-k\">import</span> <span class=\"pl-v\">BeautifulSoup</span></td>\\n        </tr>\\n        <tr>\\n          <td id=\"file-scraping_medium_impurts-py-L3\" class=\"blob-num js-line-number js-code-nav-line-number js-blob-rnum\" data-line-number=\"3\"></td>\\n          <td id=\"file-scraping_medium_impurts-py-LC3\" class=\"blob-code blob-code-inner js-file-line\"><span class=\"pl-k\">import</span> <span class=\"pl-s1\">pandas</span> <span class=\"pl-k\">as</span> <span class=\"pl-s1\">pd</span></td>\\n        </tr>\\n        <tr>\\n          <td id=\"file-scraping_medium_impurts-py-L4\" class=\"blob-num js-line-number js-code-nav-line-number js-blob-rnum\" data-line-number=\"4\"></td>\\n          <td id=\"file-scraping_medium_impurts-py-LC4\" class=\"blob-code blob-code-inner js-file-line\"><span class=\"pl-k\">import</span> <span class=\"pl-s1\">random</span></td>\\n        </tr>\\n        <tr>\\n          <td id=\"file-scraping_medium_impurts-py-L5\" class=\"blob-num js-line-number js-code-nav-line-number js-blob-rnum\" data-line-number=\"5\"></td>\\n          <td id=\"file-scraping_medium_impurts-py-LC5\" class=\"blob-code blob-code-inner js-file-line\">\\n</td>\\n        </tr>\\n        <tr>\\n          <td id=\"file-scraping_medium_impurts-py-L6\" class=\"blob-num js-line-number js-code-nav-line-number js-blob-rnum\" data-line-number=\"6\"></td>\\n          <td id=\"file-scraping_medium_impurts-py-LC6\" class=\"blob-code blob-code-inner js-file-line\"><span class=\"pl-s1\">urls</span> <span class=\"pl-c1\">=</span> {</td>\\n        </tr>\\n        <tr>\\n          <td id=\"file-scraping_medium_impurts-py-L7\" class=\"blob-num js-line-number js-code-nav-line-number js-blob-rnum\" data-line-number=\"7\"></td>\\n          <td id=\"file-scraping_medium_impurts-py-LC7\" class=\"blob-code blob-code-inner js-file-line\">    <span class=\"pl-s\">\\'Towards Data Science\\'</span>: <span class=\"pl-s\">\\'https://towardsdatascience.com/archive/{0}/{1:02d}/{2:02d}\\'</span>,</td>\\n        </tr>\\n        <tr>\\n          <td id=\"file-scraping_medium_impurts-py-L8\" class=\"blob-num js-line-number js-code-nav-line-number js-blob-rnum\" data-line-number=\"8\"></td>\\n          <td id=\"file-scraping_medium_impurts-py-LC8\" class=\"blob-code blob-code-inner js-file-line\">    <span class=\"pl-s\">\\'UX Collective\\'</span>: <span class=\"pl-s\">\\'https://uxdesign.cc/archive/{0}/{1:02d}/{2:02d}\\'</span>,</td>\\n        </tr>\\n        <tr>\\n          <td id=\"file-scraping_medium_impurts-py-L9\" class=\"blob-num js-line-number js-code-nav-line-number js-blob-rnum\" data-line-number=\"9\"></td>\\n          <td id=\"file-scraping_medium_impurts-py-LC9\" class=\"blob-code blob-code-inner js-file-line\">    <span class=\"pl-s\">\\'The Startup\\'</span>: <span class=\"pl-s\">\\'https://medium.com/swlh/archive/{0}/{1:02d}/{2:02d}\\'</span>,</td>\\n        </tr>\\n        <tr>\\n          <td id=\"file-scraping_medium_impurts-py-L10\" class=\"blob-num js-line-number js-code-nav-line-number js-blob-rnum\" data-line-number=\"10\"></td>\\n          <td id=\"file-scraping_medium_impurts-py-LC10\" class=\"blob-code blob-code-inner js-file-line\">    <span class=\"pl-s\">\\'The Writing Cooperative\\'</span>: <span class=\"pl-s\">\\'https://writingcooperative.com/archive/{0}/{1:02d}/{2:02d}\\'</span>,</td>\\n        </tr>\\n        <tr>\\n          <td id=\"file-scraping_medium_impurts-py-L11\" class=\"blob-num js-line-number js-code-nav-line-number js-blob-rnum\" data-line-number=\"11\"></td>\\n          <td id=\"file-scraping_medium_impurts-py-LC11\" class=\"blob-code blob-code-inner js-file-line\">    <span class=\"pl-s\">\\'Data Driven Investor\\'</span>: <span class=\"pl-s\">\\'https://medium.com/datadriveninvestor/archive/{0}/{1:02d}/{2:02d}\\'</span>,</td>\\n        </tr>\\n        <tr>\\n          <td id=\"file-scraping_medium_impurts-py-L12\" class=\"blob-num js-line-number js-code-nav-line-number js-blob-rnum\" data-line-number=\"12\"></td>\\n          <td id=\"file-scraping_medium_impurts-py-LC12\" class=\"blob-code blob-code-inner js-file-line\">    <span class=\"pl-s\">\\'Better Humans\\'</span>: <span class=\"pl-s\">\\'https://medium.com/better-humans/archive/{0}/{1:02d}/{2:02d}\\'</span>,</td>\\n        </tr>\\n        <tr>\\n          <td id=\"file-scraping_medium_impurts-py-L13\" class=\"blob-num js-line-number js-code-nav-line-number js-blob-rnum\" data-line-number=\"13\"></td>\\n          <td id=\"file-scraping_medium_impurts-py-LC13\" class=\"blob-code blob-code-inner js-file-line\">    <span class=\"pl-s\">\\'Better Marketing\\'</span>: <span class=\"pl-s\">\\'https://medium.com/better-marketing/archive/{0}/{1:02d}/{2:02d}\\'</span>,</td>\\n        </tr>\\n        <tr>\\n          <td id=\"file-scraping_medium_impurts-py-L14\" class=\"blob-num js-line-number js-code-nav-line-number js-blob-rnum\" data-line-number=\"14\"></td>\\n          <td id=\"file-scraping_medium_impurts-py-LC14\" class=\"blob-code blob-code-inner js-file-line\">}</td>\\n        </tr>\\n  </tbody></table>\\n</div>\\n\\n\\n    </div>\\n\\n  </div>\\n</div>\\n\\n      </div>\\n      <div class=\"gist-meta\">\\n        <a href=\"https://gist.github.com/lazuxd/60602bfed57cc4ed221b8cb3a83c39a5/raw/5e47981afc0f30ed5006249a7de9a616b99441bc/scraping_medium_impurts.py\" style=\"float:right\">view raw</a>\\n        <a href=\"https://gist.github.com/lazuxd/60602bfed57cc4ed221b8cb3a83c39a5#file-scraping_medium_impurts-py\">\\n          scraping_medium_impurts.py\\n        </a>\\n        hosted with ❤ by <a href=\"https://github.com\">GitHub</a>\\n      </div>\\n    </div>\\n</div>\\n<script>var height = -1; var delayMs = 200; if (document) {document.domain = document.domain;}function notifyResize(height) {height = height ? height : document.documentElement.offsetHeight; var resized = false; if (window.donkey && donkey.resize) {donkey.resize(height);var elements = document.getElementsByClassName(\"gist-data\"); for (var i = 0; i < elements.length; i++) {elements[i].style.overflow = \"visible\"}resized = true;}if (parent && parent._resizeIframe) {var obj = {iframe: window.frameElement, height: height}; parent._resizeIframe(obj); resized = true;}if (window.location && window.location.hash === \"#amp=1\" && window.parent && window.parent.postMessage) {window.parent.postMessage({sentinel: \"amp\", type: \"embed-size\", height: height}, \"*\");}if (window.webkit && window.webkit.messageHandlers && window.webkit.messageHandlers.resize) {window.webkit.messageHandlers.resize.postMessage(height); resized = true;}return resized;}function maybeResize() {try {if (document.documentElement.offsetHeight != height && notifyResize()) {height = document.documentElement.offsetHeight;}delayMs = Math.min(delayMs * 2, 1000000); setTimeout(maybeResize, delayMs);} catch(error) {console.log(\\'maybeResize error: \\', error)}}maybeResize();</script><script defer=\"\" src=\"https://static.cloudflareinsights.com/beacon.min.js/vaafb692b2aea4879b33c060e79fe94621666317369993\" integrity=\"sha512-0ahDYl866UMhKuYcW078ScMalXqtFJggm7TmlUtp0UlD4eQk0Ixfnm5ykXKvGJNFjLMoortdseTfsRT8oCfgGA==\" data-cf-beacon=\"{&quot;rayId&quot;:&quot;789c28802ebb00d7&quot;,&quot;token&quot;:&quot;0b5f665943484354a59c39c6833f7078&quot;,&quot;version&quot;:&quot;2022.11.3&quot;,&quot;si&quot;:100}\" crossorigin=\"anonymous\"></script>\\n'"
      ]
     },
     "execution_count": 58,
     "metadata": {},
     "output_type": "execute_result"
    }
   ],
   "source": [
    "html"
   ]
  },
  {
   "cell_type": "code",
   "execution_count": 57,
   "metadata": {},
   "outputs": [
    {
     "data": {
      "text/html": [
       "<style>.gist .gist-file { margin-bottom: 0 !important; }.gist { text-rendering: auto; }</style><script src=\"https://gist.github.com/lazuxd/60602bfed57cc4ed221b8cb3a83c39a5.js\" charset=\"utf-8\"></script><link rel=\"stylesheet\" href=\"https://github.githubassets.com/assets/gist-embed-e2a50fd876da.css\"><div id=\"gist104060274\" class=\"gist\">\n",
       "    <div class=\"gist-file\" translate=\"no\">\n",
       "      <div class=\"gist-data\">\n",
       "        <div class=\"js-gist-file-update-container js-task-list-container file-box\">\n",
       "  <div id=\"file-scraping_medium_impurts-py\" class=\"file my-2\">\n",
       "    \n",
       "    <div itemprop=\"text\" class=\"Box-body p-0 blob-wrapper data type-python  \">\n",
       "\n",
       "        \n",
       "<div class=\"js-check-bidi js-blob-code-container blob-code-content\">\n",
       "\n",
       "  <template class=\"js-file-alert-template\">\n",
       "  <div data-view-component=\"true\" class=\"flash flash-warn flash-full d-flex flex-items-center\">\n",
       "  <svg aria-hidden=\"true\" height=\"16\" viewBox=\"0 0 16 16\" version=\"1.1\" width=\"16\" data-view-component=\"true\" class=\"octicon octicon-alert\">\n",
       "    <path fill-rule=\"evenodd\" d=\"M8.22 1.754a.25.25 0 00-.44 0L1.698 13.132a.25.25 0 00.22.368h12.164a.25.25 0 00.22-.368L8.22 1.754zm-1.763-.707c.659-1.234 2.427-1.234 3.086 0l6.082 11.378A1.75 1.75 0 0114.082 15H1.918a1.75 1.75 0 01-1.543-2.575L6.457 1.047zM9 11a1 1 0 11-2 0 1 1 0 012 0zm-.25-5.25a.75.75 0 00-1.5 0v2.5a.75.75 0 001.5 0v-2.5z\"></path>\n",
       "</svg>\n",
       "  \n",
       "    <span>\n",
       "      This file contains bidirectional Unicode text that may be interpreted or compiled differently than what appears below. To review, open the file in an editor that reveals hidden Unicode characters.\n",
       "      <a href=\"https://github.co/hiddenchars\" target=\"_blank\">Learn more about bidirectional Unicode characters</a>\n",
       "    </span>\n",
       "\n",
       "\n",
       "  <div data-view-component=\"true\" class=\"flash-action\">        <a href=\"{{ revealButtonHref }}\" data-view-component=\"true\" class=\"btn-sm btn\">    Show hidden characters\n",
       "</a>\n",
       "</div>\n",
       "</div></template>\n",
       "<template class=\"js-line-alert-template\">\n",
       "  <span aria-label=\"This line has hidden Unicode characters\" data-view-component=\"true\" class=\"line-alert tooltipped tooltipped-e\">\n",
       "    <svg aria-hidden=\"true\" height=\"16\" viewBox=\"0 0 16 16\" version=\"1.1\" width=\"16\" data-view-component=\"true\" class=\"octicon octicon-alert\">\n",
       "    <path fill-rule=\"evenodd\" d=\"M8.22 1.754a.25.25 0 00-.44 0L1.698 13.132a.25.25 0 00.22.368h12.164a.25.25 0 00.22-.368L8.22 1.754zm-1.763-.707c.659-1.234 2.427-1.234 3.086 0l6.082 11.378A1.75 1.75 0 0114.082 15H1.918a1.75 1.75 0 01-1.543-2.575L6.457 1.047zM9 11a1 1 0 11-2 0 1 1 0 012 0zm-.25-5.25a.75.75 0 00-1.5 0v2.5a.75.75 0 001.5 0v-2.5z\"></path>\n",
       "</svg>\n",
       "</span></template>\n",
       "\n",
       "  <table data-hpc=\"\" class=\"highlight tab-size js-file-line-container js-code-nav-container js-tagsearch-file\" data-tab-size=\"8\" data-paste-markdown-skip=\"\" data-tagsearch-lang=\"Python\" data-tagsearch-path=\"scraping_medium_impurts.py\">\n",
       "        <tbody><tr>\n",
       "          <td id=\"file-scraping_medium_impurts-py-L1\" class=\"blob-num js-line-number js-code-nav-line-number js-blob-rnum\" data-line-number=\"1\"></td>\n",
       "          <td id=\"file-scraping_medium_impurts-py-LC1\" class=\"blob-code blob-code-inner js-file-line\"><span class=\"pl-k\">import</span> <span class=\"pl-s1\">requests</span></td>\n",
       "        </tr>\n",
       "        <tr>\n",
       "          <td id=\"file-scraping_medium_impurts-py-L2\" class=\"blob-num js-line-number js-code-nav-line-number js-blob-rnum\" data-line-number=\"2\"></td>\n",
       "          <td id=\"file-scraping_medium_impurts-py-LC2\" class=\"blob-code blob-code-inner js-file-line\"><span class=\"pl-k\">from</span> <span class=\"pl-s1\">bs4</span> <span class=\"pl-k\">import</span> <span class=\"pl-v\">BeautifulSoup</span></td>\n",
       "        </tr>\n",
       "        <tr>\n",
       "          <td id=\"file-scraping_medium_impurts-py-L3\" class=\"blob-num js-line-number js-code-nav-line-number js-blob-rnum\" data-line-number=\"3\"></td>\n",
       "          <td id=\"file-scraping_medium_impurts-py-LC3\" class=\"blob-code blob-code-inner js-file-line\"><span class=\"pl-k\">import</span> <span class=\"pl-s1\">pandas</span> <span class=\"pl-k\">as</span> <span class=\"pl-s1\">pd</span></td>\n",
       "        </tr>\n",
       "        <tr>\n",
       "          <td id=\"file-scraping_medium_impurts-py-L4\" class=\"blob-num js-line-number js-code-nav-line-number js-blob-rnum\" data-line-number=\"4\"></td>\n",
       "          <td id=\"file-scraping_medium_impurts-py-LC4\" class=\"blob-code blob-code-inner js-file-line\"><span class=\"pl-k\">import</span> <span class=\"pl-s1\">random</span></td>\n",
       "        </tr>\n",
       "        <tr>\n",
       "          <td id=\"file-scraping_medium_impurts-py-L5\" class=\"blob-num js-line-number js-code-nav-line-number js-blob-rnum\" data-line-number=\"5\"></td>\n",
       "          <td id=\"file-scraping_medium_impurts-py-LC5\" class=\"blob-code blob-code-inner js-file-line\">\n",
       "</td>\n",
       "        </tr>\n",
       "        <tr>\n",
       "          <td id=\"file-scraping_medium_impurts-py-L6\" class=\"blob-num js-line-number js-code-nav-line-number js-blob-rnum\" data-line-number=\"6\"></td>\n",
       "          <td id=\"file-scraping_medium_impurts-py-LC6\" class=\"blob-code blob-code-inner js-file-line\"><span class=\"pl-s1\">urls</span> <span class=\"pl-c1\">=</span> {</td>\n",
       "        </tr>\n",
       "        <tr>\n",
       "          <td id=\"file-scraping_medium_impurts-py-L7\" class=\"blob-num js-line-number js-code-nav-line-number js-blob-rnum\" data-line-number=\"7\"></td>\n",
       "          <td id=\"file-scraping_medium_impurts-py-LC7\" class=\"blob-code blob-code-inner js-file-line\">    <span class=\"pl-s\">'Towards Data Science'</span>: <span class=\"pl-s\">'https://towardsdatascience.com/archive/{0}/{1:02d}/{2:02d}'</span>,</td>\n",
       "        </tr>\n",
       "        <tr>\n",
       "          <td id=\"file-scraping_medium_impurts-py-L8\" class=\"blob-num js-line-number js-code-nav-line-number js-blob-rnum\" data-line-number=\"8\"></td>\n",
       "          <td id=\"file-scraping_medium_impurts-py-LC8\" class=\"blob-code blob-code-inner js-file-line\">    <span class=\"pl-s\">'UX Collective'</span>: <span class=\"pl-s\">'https://uxdesign.cc/archive/{0}/{1:02d}/{2:02d}'</span>,</td>\n",
       "        </tr>\n",
       "        <tr>\n",
       "          <td id=\"file-scraping_medium_impurts-py-L9\" class=\"blob-num js-line-number js-code-nav-line-number js-blob-rnum\" data-line-number=\"9\"></td>\n",
       "          <td id=\"file-scraping_medium_impurts-py-LC9\" class=\"blob-code blob-code-inner js-file-line\">    <span class=\"pl-s\">'The Startup'</span>: <span class=\"pl-s\">'https://medium.com/swlh/archive/{0}/{1:02d}/{2:02d}'</span>,</td>\n",
       "        </tr>\n",
       "        <tr>\n",
       "          <td id=\"file-scraping_medium_impurts-py-L10\" class=\"blob-num js-line-number js-code-nav-line-number js-blob-rnum\" data-line-number=\"10\"></td>\n",
       "          <td id=\"file-scraping_medium_impurts-py-LC10\" class=\"blob-code blob-code-inner js-file-line\">    <span class=\"pl-s\">'The Writing Cooperative'</span>: <span class=\"pl-s\">'https://writingcooperative.com/archive/{0}/{1:02d}/{2:02d}'</span>,</td>\n",
       "        </tr>\n",
       "        <tr>\n",
       "          <td id=\"file-scraping_medium_impurts-py-L11\" class=\"blob-num js-line-number js-code-nav-line-number js-blob-rnum\" data-line-number=\"11\"></td>\n",
       "          <td id=\"file-scraping_medium_impurts-py-LC11\" class=\"blob-code blob-code-inner js-file-line\">    <span class=\"pl-s\">'Data Driven Investor'</span>: <span class=\"pl-s\">'https://medium.com/datadriveninvestor/archive/{0}/{1:02d}/{2:02d}'</span>,</td>\n",
       "        </tr>\n",
       "        <tr>\n",
       "          <td id=\"file-scraping_medium_impurts-py-L12\" class=\"blob-num js-line-number js-code-nav-line-number js-blob-rnum\" data-line-number=\"12\"></td>\n",
       "          <td id=\"file-scraping_medium_impurts-py-LC12\" class=\"blob-code blob-code-inner js-file-line\">    <span class=\"pl-s\">'Better Humans'</span>: <span class=\"pl-s\">'https://medium.com/better-humans/archive/{0}/{1:02d}/{2:02d}'</span>,</td>\n",
       "        </tr>\n",
       "        <tr>\n",
       "          <td id=\"file-scraping_medium_impurts-py-L13\" class=\"blob-num js-line-number js-code-nav-line-number js-blob-rnum\" data-line-number=\"13\"></td>\n",
       "          <td id=\"file-scraping_medium_impurts-py-LC13\" class=\"blob-code blob-code-inner js-file-line\">    <span class=\"pl-s\">'Better Marketing'</span>: <span class=\"pl-s\">'https://medium.com/better-marketing/archive/{0}/{1:02d}/{2:02d}'</span>,</td>\n",
       "        </tr>\n",
       "        <tr>\n",
       "          <td id=\"file-scraping_medium_impurts-py-L14\" class=\"blob-num js-line-number js-code-nav-line-number js-blob-rnum\" data-line-number=\"14\"></td>\n",
       "          <td id=\"file-scraping_medium_impurts-py-LC14\" class=\"blob-code blob-code-inner js-file-line\">}</td>\n",
       "        </tr>\n",
       "  </tbody></table>\n",
       "</div>\n",
       "\n",
       "\n",
       "    </div>\n",
       "\n",
       "  </div>\n",
       "</div>\n",
       "\n",
       "      </div>\n",
       "      <div class=\"gist-meta\">\n",
       "        <a href=\"https://gist.github.com/lazuxd/60602bfed57cc4ed221b8cb3a83c39a5/raw/5e47981afc0f30ed5006249a7de9a616b99441bc/scraping_medium_impurts.py\" style=\"float:right\">view raw</a>\n",
       "        <a href=\"https://gist.github.com/lazuxd/60602bfed57cc4ed221b8cb3a83c39a5#file-scraping_medium_impurts-py\">\n",
       "          scraping_medium_impurts.py\n",
       "        </a>\n",
       "        hosted with ❤ by <a href=\"https://github.com\">GitHub</a>\n",
       "      </div>\n",
       "    </div>\n",
       "</div>\n",
       "<script>var height = -1; var delayMs = 200; if (document) {document.domain = document.domain;}function notifyResize(height) {height = height ? height : document.documentElement.offsetHeight; var resized = false; if (window.donkey && donkey.resize) {donkey.resize(height);var elements = document.getElementsByClassName(\"gist-data\"); for (var i = 0; i < elements.length; i++) {elements[i].style.overflow = \"visible\"}resized = true;}if (parent && parent._resizeIframe) {var obj = {iframe: window.frameElement, height: height}; parent._resizeIframe(obj); resized = true;}if (window.location && window.location.hash === \"#amp=1\" && window.parent && window.parent.postMessage) {window.parent.postMessage({sentinel: \"amp\", type: \"embed-size\", height: height}, \"*\");}if (window.webkit && window.webkit.messageHandlers && window.webkit.messageHandlers.resize) {window.webkit.messageHandlers.resize.postMessage(height); resized = true;}return resized;}function maybeResize() {try {if (document.documentElement.offsetHeight != height && notifyResize()) {height = document.documentElement.offsetHeight;}delayMs = Math.min(delayMs * 2, 1000000); setTimeout(maybeResize, delayMs);} catch(error) {console.log('maybeResize error: ', error)}}maybeResize();</script><script defer=\"\" src=\"https://static.cloudflareinsights.com/beacon.min.js/vaafb692b2aea4879b33c060e79fe94621666317369993\" integrity=\"sha512-0ahDYl866UMhKuYcW078ScMalXqtFJggm7TmlUtp0UlD4eQk0Ixfnm5ykXKvGJNFjLMoortdseTfsRT8oCfgGA==\" data-cf-beacon=\"{&quot;rayId&quot;:&quot;789c28802ebb00d7&quot;,&quot;token&quot;:&quot;0b5f665943484354a59c39c6833f7078&quot;,&quot;version&quot;:&quot;2022.11.3&quot;,&quot;si&quot;:100}\" crossorigin=\"anonymous\"></script>\n"
      ],
      "text/plain": [
       "<IPython.core.display.HTML object>"
      ]
     },
     "execution_count": 57,
     "metadata": {},
     "output_type": "execute_result"
    }
   ],
   "source": [
    "from IPython.display import HTML\n",
    "\n",
    "HTML(html)"
   ]
  },
  {
   "cell_type": "code",
   "execution_count": 48,
   "metadata": {},
   "outputs": [],
   "source": [
    "chrome_webdriver.quit()"
   ]
  }
 ],
 "metadata": {
  "kernelspec": {
   "display_name": ".venv",
   "language": "python",
   "name": "python3"
  },
  "language_info": {
   "codemirror_mode": {
    "name": "ipython",
    "version": 3
   },
   "file_extension": ".py",
   "mimetype": "text/x-python",
   "name": "python",
   "nbconvert_exporter": "python",
   "pygments_lexer": "ipython3",
   "version": "3.10.4 (main, May 29 2022, 20:58:23) [GCC 9.4.0]"
  },
  "orig_nbformat": 4,
  "vscode": {
   "interpreter": {
    "hash": "6c5ca7531f59fa0228d3041ec16587b2d14eed0a831b158ef3a275f8b2515388"
   }
  }
 },
 "nbformat": 4,
 "nbformat_minor": 2
}
