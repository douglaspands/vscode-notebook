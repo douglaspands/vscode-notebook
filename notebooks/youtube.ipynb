{
 "cells": [
  {
   "attachments": {},
   "cell_type": "markdown",
   "metadata": {},
   "source": [
    "# YouTube\n",
    "Tem como objetivo baixar videos no YouTube."
   ]
  },
  {
   "attachments": {},
   "cell_type": "markdown",
   "metadata": {},
   "source": [
    "## Setup"
   ]
  },
  {
   "cell_type": "code",
   "execution_count": 1,
   "metadata": {},
   "outputs": [],
   "source": [
    "from pytube import YouTube as PyTube, StreamQuery\n",
    "from pathlib import Path\n",
    "import pandas as pd\n",
    "from IPython.display import clear_output\n",
    "from functools import cache\n",
    "import shlex\n",
    "\n",
    "YOUTUBE_PATH = Path(\"./files/youtube\")\n",
    "YOUTUBE_PATH.mkdir(exist_ok=True)\n",
    "\n",
    "\n",
    "class YouTube:\n",
    "    DOWNLOAD_BLOCKS = 20\n",
    "\n",
    "    def __init__(self, url: str):\n",
    "        self._yt = PyTube(url=url, on_progress_callback=self._progress)\n",
    "        self.url = url\n",
    "        self.autor = self._yt.author\n",
    "        self.titulo = self._yt.title\n",
    "        self._filesize: int = 0\n",
    "\n",
    "    def __str__(self) -> str:\n",
    "        return f\"<Youtube autor={shlex.quote(self.autor)} titulo={shlex.quote(self.titulo)} url={shlex.quote(self.url)}>\"\n",
    "\n",
    "    def __repr__(self) -> str:\n",
    "        return str(self)\n",
    "\n",
    "    @property\n",
    "    def _streams(self) -> StreamQuery:\n",
    "        @cache\n",
    "        def wrapper():\n",
    "            return self._yt.streams\n",
    "        return wrapper()\n",
    "\n",
    "    def _progress(self, chunk, file_handle: bytes, bytes_remaining: int):\n",
    "        percent = ((self._filesize - bytes_remaining) * 100) / self._filesize\n",
    "        block = int((percent * self.DOWNLOAD_BLOCKS) / 100)\n",
    "        clear_output(wait=True)\n",
    "        print(\"Progresso: [{0}] {1:.1f}%\".format(\"#\" * block + \"-\" * (20 - block), percent))\n",
    "\n",
    "    def resolucoes(self, only_progressive: bool = False) -> pd.DataFrame:\n",
    "        resolutions = self._streams\n",
    "        if only_progressive:\n",
    "            resolutions = resolutions.filter(progressive=True)\n",
    "        df = pd.DataFrame([res.__dict__ for res in resolutions])\n",
    "        return df\n",
    "    \n",
    "    def baixar_video(self, itag: int) -> str:\n",
    "        video = self._streams.get_by_itag(itag)\n",
    "        self._filesize = video.filesize\n",
    "        return video.download(output_path=str(YOUTUBE_PATH))\n"
   ]
  },
  {
   "attachments": {},
   "cell_type": "markdown",
   "metadata": {},
   "source": [
    "## Execução\n",
    "Executar os 3 passos abaixo na sequencia:"
   ]
  },
  {
   "attachments": {},
   "cell_type": "markdown",
   "metadata": {},
   "source": [
    "### 1. Digitar URL do video"
   ]
  },
  {
   "cell_type": "code",
   "execution_count": 2,
   "metadata": {},
   "outputs": [
    {
     "data": {
      "text/plain": [
       "<Youtube autor='Copa Studio' titulo='Irmão do Jorel - Vovó Me Leva pra Aula - Completo (Oficial)' url='https://www.youtube.com/watch?v=BhF6mkQtObw&t=66s'>"
      ]
     },
     "execution_count": 2,
     "metadata": {},
     "output_type": "execute_result"
    }
   ],
   "source": [
    "youtube_url = \"https://www.youtube.com/watch?v=BhF6mkQtObw&t=66s\"\n",
    "yt = YouTube(url=youtube_url)\n",
    "yt"
   ]
  },
  {
   "attachments": {},
   "cell_type": "markdown",
   "metadata": {},
   "source": [
    "### 2. Listar Resoluções"
   ]
  },
  {
   "cell_type": "code",
   "execution_count": 3,
   "metadata": {},
   "outputs": [
    {
     "data": {
      "text/plain": [
       "'_monostate, url, itag, mime_type, codecs, type, subtype, video_codec, audio_codec, is_otf, bitrate, _filesize, _filesize_kb, _filesize_mb, _filesize_gb, is_dash, abr, fps, resolution, is_3d, is_hdr, is_live'"
      ]
     },
     "execution_count": 3,
     "metadata": {},
     "output_type": "execute_result"
    }
   ],
   "source": [
    "# Somente campos\n",
    "\", \".join(list(yt.resolucoes()))"
   ]
  },
  {
   "cell_type": "code",
   "execution_count": 4,
   "metadata": {},
   "outputs": [
    {
     "data": {
      "text/html": [
       "<div>\n",
       "<style scoped>\n",
       "    .dataframe tbody tr th:only-of-type {\n",
       "        vertical-align: middle;\n",
       "    }\n",
       "\n",
       "    .dataframe tbody tr th {\n",
       "        vertical-align: top;\n",
       "    }\n",
       "\n",
       "    .dataframe thead th {\n",
       "        text-align: right;\n",
       "    }\n",
       "</style>\n",
       "<table border=\"1\" class=\"dataframe\">\n",
       "  <thead>\n",
       "    <tr style=\"text-align: right;\">\n",
       "      <th></th>\n",
       "      <th>itag</th>\n",
       "      <th>mime_type</th>\n",
       "      <th>video_codec</th>\n",
       "      <th>audio_codec</th>\n",
       "      <th>fps</th>\n",
       "      <th>resolution</th>\n",
       "      <th>abr</th>\n",
       "    </tr>\n",
       "  </thead>\n",
       "  <tbody>\n",
       "    <tr>\n",
       "      <th>0</th>\n",
       "      <td>17</td>\n",
       "      <td>video/3gpp</td>\n",
       "      <td>mp4v.20.3</td>\n",
       "      <td>mp4a.40.2</td>\n",
       "      <td>12</td>\n",
       "      <td>144p</td>\n",
       "      <td>24kbps</td>\n",
       "    </tr>\n",
       "    <tr>\n",
       "      <th>1</th>\n",
       "      <td>18</td>\n",
       "      <td>video/mp4</td>\n",
       "      <td>avc1.42001E</td>\n",
       "      <td>mp4a.40.2</td>\n",
       "      <td>24</td>\n",
       "      <td>360p</td>\n",
       "      <td>96kbps</td>\n",
       "    </tr>\n",
       "    <tr>\n",
       "      <th>2</th>\n",
       "      <td>22</td>\n",
       "      <td>video/mp4</td>\n",
       "      <td>avc1.64001F</td>\n",
       "      <td>mp4a.40.2</td>\n",
       "      <td>24</td>\n",
       "      <td>720p</td>\n",
       "      <td>192kbps</td>\n",
       "    </tr>\n",
       "  </tbody>\n",
       "</table>\n",
       "</div>"
      ],
      "text/plain": [
       "   itag   mime_type  video_codec audio_codec  fps resolution      abr\n",
       "0    17  video/3gpp    mp4v.20.3   mp4a.40.2   12       144p   24kbps\n",
       "1    18   video/mp4  avc1.42001E   mp4a.40.2   24       360p   96kbps\n",
       "2    22   video/mp4  avc1.64001F   mp4a.40.2   24       720p  192kbps"
      ]
     },
     "execution_count": 4,
     "metadata": {},
     "output_type": "execute_result"
    }
   ],
   "source": [
    "yt.resolucoes(only_progressive=True)[[\"itag\", \"mime_type\", \"video_codec\", \"audio_codec\", \"fps\", \"resolution\", \"abr\"]]\n",
    "# yt.resolucoes()[[\"itag\", \"mime_type\", \"video_codec\", \"audio_codec\", \"fps\", \"resolution\", \"abr\"]]"
   ]
  },
  {
   "attachments": {},
   "cell_type": "markdown",
   "metadata": {},
   "source": [
    "### 3. Baixar Video"
   ]
  },
  {
   "cell_type": "code",
   "execution_count": 5,
   "metadata": {},
   "outputs": [
    {
     "name": "stdout",
     "output_type": "stream",
     "text": [
      "Progresso: [####################] 100.0%\n"
     ]
    },
    {
     "data": {
      "text/plain": [
       "'/home/douglaspands/workspace/vscode-notebook/files/youtube/Irmão do Jorel - Vovó Me Leva pra Aula - Completo (Oficial).mp4'"
      ]
     },
     "execution_count": 5,
     "metadata": {},
     "output_type": "execute_result"
    }
   ],
   "source": [
    "yt.baixar_video(itag=22)"
   ]
  }
 ],
 "metadata": {
  "kernelspec": {
   "display_name": ".venv",
   "language": "python",
   "name": "python3"
  },
  "language_info": {
   "codemirror_mode": {
    "name": "ipython",
    "version": 3
   },
   "file_extension": ".py",
   "mimetype": "text/x-python",
   "name": "python",
   "nbconvert_exporter": "python",
   "pygments_lexer": "ipython3",
   "version": "3.10.4"
  },
  "orig_nbformat": 4,
  "vscode": {
   "interpreter": {
    "hash": "6c5ca7531f59fa0228d3041ec16587b2d14eed0a831b158ef3a275f8b2515388"
   }
  }
 },
 "nbformat": 4,
 "nbformat_minor": 2
}
