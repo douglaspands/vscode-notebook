{
 "cells": [
  {
   "cell_type": "markdown",
   "metadata": {},
   "source": [
    "# Estudos com o DeepSeek R1\n",
    "\n",
    "Para esse estudo foi instalado os seguintes softwares:\n",
    "- [Ollama](https://ollama.com/)\n",
    "- [deepseek-r1:7b](https://ollama.com/library/deepseek-r1) -- Prefiro as respostas do modelo destilado do Alibaba.\n",
    "\n",
    "Aqui no caderno, eu utilizo apenas o framework do Ollama em Python:\n",
    "```sh\n",
    "pip install ollama\n",
    "```\n",
    "\n",
    "Eu preferi não formatar a resposta, porque acaba sumindo a parte do pensamento `<think>...</think>`."
   ]
  },
  {
   "cell_type": "markdown",
   "metadata": {},
   "source": [
    "## Extração de dados"
   ]
  },
  {
   "cell_type": "code",
   "execution_count": 27,
   "metadata": {},
   "outputs": [
    {
     "name": "stdout",
     "output_type": "stream",
     "text": [
      "<think>\n",
      "\n",
      "</think>\n",
      "\n",
      "Canada is a country located in northern North America, known for its vast natural landscapes and rich cultural heritage. Here are some key points about Canada:\n",
      "\n",
      "### Geography\n",
      "- **Location**: Canada is situated on the northern part of the Americas, bordered by the United States to the south and the Arctic Ocean to the north.\n",
      "- **Size**: It is the second-largest country in the world by both land area and total area.\n",
      "- **Continents**: Canada covers parts of three continents: Europe (in the northeast), Asia (in the east), and Africa (in the central and northern regions).\n",
      "\n",
      "### Capitals\n",
      "- **Official Capital**: Ottawa, capital since 1980.\n",
      "- **Political Capital**: also Ottawa.\n",
      "\n",
      "### Official Languages\n",
      "- English is the official language, with over 35 First Nations languages recognized.\n",
      "\n",
      "### Government\n",
      "- **Political System**: A constitutional monarchy with a federal system of government. The Prime Minister of Canada is the head of government and a member of theRoyal Club.\n",
      "- **Branches of Government**:\n",
      "  - **Executive Branch**: Led by the Queen, who serves as the ceremonial head of state and appoints the Prime Minister.\n",
      "  - **Legislative Branch**: consists of the House of Commons (representing provinces) and the Senate.\n",
      "  - **Judicial Branch**: The Supreme Court of Canada.\n",
      "\n",
      "### Economy\n",
      "- **Dominant Industries**: Natural resources (mining, oil, gas), manufacturing, agriculture, education, and health services.\n",
      "- **Economic Power**: The province of Ontario is home to many of Canada's top businesses and a significant portion of its GDP.\n",
      "\n",
      "### Culture\n",
      "- **Religion**: Christian, with Roman Catholicism being the largest religion followed by Protestantism.\n",
      "- **Cuisine**: Known for its diverse culinary traditions, including Canadian comfort food, steaks (burgers in North America), fresh seafood, and desserts like maple-glazed foods.\n",
      "- **Music**:加拿大 has a rich musical tradition, known for genres like blues, country music, and rock.\n",
      "\n",
      "### History\n",
      "- **Settlement**: Settled by the Inuit over 50,000 years ago. European colonization began in the late 16th century with the establishment of St. John's Port in 1607.\n",
      "- **Reformations**: The Canadian Constitution was finalized in 1982, ratifying the North America Agreement (NAA) in 1994, and joining the World Trade Organization (WTO) in 1995.\n",
      "\n",
      "### Tourism\n",
      "- **Attractions**: Known for natural beauty such as the Great Bear Rainforest, Banff National Park, Jasper National Park, and Glacier National Park. Cities like Toronto, Vancouver, Montreal, and Calgary are popular tourist destinations.\n",
      "\n",
      "### Education\n",
      "- **Universities**: Home to world-class universities like the University of Toronto, McGill University, and the University of British Columbia.\n",
      "- **Language Learning**: English is widely taught in schools, but many students also learn French as an additional language.\n",
      "\n",
      "Canada is a country with deep cultural roots and a vibrant diversity of people, languages, traditions, and beliefs."
     ]
    }
   ],
   "source": [
    "from ollama import chat\n",
    "\n",
    "response = chat(\n",
    "    model=\"deepseek-r1:7b\",\n",
    "    messages=[\n",
    "        {\n",
    "            \"role\": \"user\",\n",
    "            \"content\": \"Tell me about Canada.\",\n",
    "        }\n",
    "    ],\n",
    "    stream=True,\n",
    ")\n",
    "\n",
    "for chunk in response:\n",
    "    print(chunk.message.content, end=\"\")"
   ]
  },
  {
   "cell_type": "code",
   "execution_count": 28,
   "metadata": {},
   "outputs": [
    {
     "name": "stdout",
     "output_type": "stream",
     "text": [
      "<think>\n",
      "Alright, the user asked for information about Canada in Portuguese. I need to make sure my response is both informative and engaging.\n",
      "\n",
      "First, I'll start by introducing Canada as a significant country in the world. It's important to mention its vastness with over 10 million square kilometers and its strategic location on the northern hemisphere.\n",
      "\n",
      "Next, I should highlight some of the main provinces or territories: Ontario, Quebec, British Columbia, Alberta, Saskatchewan, Manitoba, New Brunswick, Nova Scotia, Newfoundland and Labrador, and Prince Edward Island. Including the tenEncode project might be a good idea for cultural insights.\n",
      "\n",
      "I'll also touch on Canada's official languages—English is predominant in business and government, while French is used in Quebec and recognized elsewhere. This shows diversity within the country.\n",
      "\n",
      "Economically, I should mention sectors like energy, mining, manufacturing, and technology. The economy is indeed robust, so emphasizing growth areas would be beneficial.\n",
      "\n",
      "Geographically, besides the mainland, there are over 200 islands, which adds to its natural beauty and uniqueness. Including cities like Toronto, Vancouver, Montreal gives specific examples of major urban centers.\n",
      "\n",
      "I shouldn't forget environmental efforts; mentioning sustainability as a focus in urban planning can highlight Canada's commitment to eco-friendly practices.\n",
      "\n",
      "Lastly, touching on multiculturalism with diverse cultures, languages, religions, and ethnic groups shows the country's open-mindedness. I should also include some cultural aspects like hockey or maple syrup for tangible examples of Canadian identity.\n",
      "\n",
      "Putting it all together, I need to structure this information in a way that flows well in Portuguese, ensuring each point is clear and concise.\n",
      "</think>\n",
      "\n",
      "Claro! A Canada é um país gigante no noroeste do Hemisfério Norte, com mais de 10 milhões de quilômetros quadrados de solo. Ele é um dos países mais grandes do mundo e ocupa positions centrais em relation aplat earth. Canada tem uma vasta NETWORK de provincias, terras e territorios, incluindo o Ontario, Quebec, British Columbia, Alberta, Saskatchewan, Manitoba, Nova Brics, Nova Scotia, Newfoundland and Labrador e PEI (Proscrição Estendida do terrível Island).\n",
      "\n",
      "Canada é também um dos países mais multiculturais do mundo, com uma diversidade de culturas, idiomas,-religiões e grupos etnológicos. A língua oficial é o Inglês, que é usada no geringe government e business, mas a Francês é também uma língua oficial, principalmente na province of Quebec.\n",
      "\n",
      "Economicamente, Canada é um dos países mais ricos do mundo, com setores como a energia, mineração, indústria de madeira, computação e tecnologia sendo seus pilares. Sua economia é forte e contínua sedeveloping, especialmente em áreas como a energético e o sector de签名.\n",
      "\n",
      "Canada também é conhecido por seu ecossistema luxuro, com mais de 200 ilhas e îles, além de terras rurais e urbanizadas. Sua geografia é marcada por montanhas, lagos, rios como o Mistasshoosh 和 Atlantic Ocean, e a Beira Mar.\n",
      "\n",
      "Em termos culturais, Canada incorpora pontos de atenção como o projecto tenEncode, que buscan revoluicionar as informações culturais através de tecnologias avançadas. Além disso, Canadens são celebrados por seu esporte ativo, como o hockey e o basquete, e por seu productions como a produção de maple syrup.\n",
      "\n",
      "Sobre todo, Canada é um país que combina naturalidade, modernidade e diversidade, sendo um dos destinos mais desejados para viagens e investimentos globais."
     ]
    }
   ],
   "source": [
    "from ollama import chat\n",
    "\n",
    "\n",
    "response = chat(\n",
    "    model=\"deepseek-r1:7b\",\n",
    "    messages=[\n",
    "        {\n",
    "            \"role\": \"user\",\n",
    "            \"content\": \"Conte-me sobre o Canada.\",\n",
    "        }\n",
    "    ],\n",
    "    stream=True,\n",
    ")\n",
    "\n",
    "for chunk in response:\n",
    "    print(chunk.message.content, end=\"\")"
   ]
  },
  {
   "cell_type": "markdown",
   "metadata": {},
   "source": [
    "## Extração de dados via Pydantic"
   ]
  },
  {
   "cell_type": "code",
   "execution_count": 29,
   "metadata": {},
   "outputs": [
    {
     "name": "stdout",
     "output_type": "stream",
     "text": [
      "country=Country(name='Canada', think='Canada is a country in the northern part of the Americas, known for its vast natural landscapes and multicultural society.', capital='Ottawa', languages=['English', 'French', 'Spanish'])\n"
     ]
    }
   ],
   "source": [
    "from ollama import chat\n",
    "from pydantic import BaseModel\n",
    "\n",
    "\n",
    "class Country(BaseModel):\n",
    "    name: str\n",
    "    think: str\n",
    "    capital: str\n",
    "    languages: list[str]\n",
    "\n",
    "\n",
    "response = chat(\n",
    "    messages=[\n",
    "        {\n",
    "            \"role\": \"user\",\n",
    "            \"content\": \"Tell me about Canada.\",\n",
    "        }\n",
    "    ],\n",
    "    model=\"deepseek-r1:7b\",\n",
    "    format=Country.model_json_schema(),\n",
    ")\n",
    "\n",
    "country = Country.model_validate_json(response.message.content)\n",
    "print(f\"{country=}\")"
   ]
  },
  {
   "cell_type": "code",
   "execution_count": 30,
   "metadata": {},
   "outputs": [
    {
     "name": "stdout",
     "output_type": "stream",
     "text": [
      "country=Pais(nome='Canada', capital='Ottawa', idiomas=['ingles', 'polski', 'espanhol', 'francês'])\n"
     ]
    }
   ],
   "source": [
    "from ollama import chat\n",
    "from pydantic import BaseModel\n",
    "\n",
    "\n",
    "class Pais(BaseModel):\n",
    "    nome: str\n",
    "    capital: str\n",
    "    idiomas: list[str]\n",
    "\n",
    "\n",
    "response = chat(\n",
    "    messages=[\n",
    "        {\n",
    "            \"role\": \"user\",\n",
    "            \"content\": \"Conte-me sobre o Canada.\",\n",
    "        }\n",
    "    ],\n",
    "    model=\"deepseek-r1:7b\",\n",
    "    format=Pais.model_json_schema(),\n",
    ")\n",
    "\n",
    "country = Pais.model_validate_json(response.message.content)\n",
    "print(f\"{country=}\")"
   ]
  },
  {
   "cell_type": "markdown",
   "metadata": {},
   "source": [
    "## Conversação"
   ]
  },
  {
   "cell_type": "code",
   "execution_count": 4,
   "metadata": {},
   "outputs": [
    {
     "data": {
      "text/plain": [
       "<DeepSeekChat model='deepseek-r1:7b' 129914574794448>"
      ]
     },
     "execution_count": 4,
     "metadata": {},
     "output_type": "execute_result"
    }
   ],
   "source": [
    "from ollama import chat\n",
    "from io import StringIO\n",
    "\n",
    "\n",
    "class DeepSeekChat:\n",
    "\n",
    "    def __init__(self, model=\"deepseek-r1:7b\"):\n",
    "        self._model = model\n",
    "        self._messages = [\n",
    "            {\n",
    "                \"role\": \"system\",\n",
    "                \"content\": \"Eu sou uma assistente virtual para brasileiros do Brasil, todas as respostas serão em português do Brasil\",\n",
    "            }\n",
    "        ]\n",
    "\n",
    "    def send(self, question):\n",
    "        self._messages.append(\n",
    "            {\n",
    "                \"role\": \"user\",\n",
    "                \"content\": question,\n",
    "            }\n",
    "        )\n",
    "        response = chat(\n",
    "            model=self._model,\n",
    "            messages=self._messages,\n",
    "            stream=True,\n",
    "        )\n",
    "        message_io = StringIO()\n",
    "        for chunk in response:\n",
    "            message_io.write(chunk_msg := chunk.message.content)\n",
    "            yield chunk_msg\n",
    "        self._messages.append(\n",
    "            {\n",
    "                \"role\": \"assistant\",\n",
    "                \"content\": message_io.getvalue(),\n",
    "            }\n",
    "        )\n",
    "\n",
    "    def __repr__(self):\n",
    "        return f\"<{self.__class__.__name__} model='{self._model}'>\"\n",
    "\n",
    "\n",
    "deepseek_chat = DeepSeekChat()\n",
    "deepseek_chat"
   ]
  },
  {
   "cell_type": "code",
   "execution_count": 3,
   "metadata": {},
   "outputs": [
    {
     "name": "stdout",
     "output_type": "stream",
     "text": [
      "<think>\n",
      "Okay, the user wants information about Canada in Portuguese. They mentioned they're a virtual assistant for Brazilian users, so I should respond in Brazilian Portuguese.\n",
      "\n",
      "I'll start by greeting them and then provide an overview of Canada's culture, geography, economy, and history. Maybe mention its location between the US and Mexico to give context.\n",
      "\n",
      "I should highlight the diverse cities like Toronto, Vancouver, Montreal, and Calgary to show its multicultural aspect. Also, touch on the multicultural vibe in smaller towns where people from different backgrounds live together.\n",
      "\n",
      "Economically, Canada has strong sectors like oil and gas but is also known for innovation and tech companies. Including some famous cities will make it relatable.\n",
      "\n",
      "I'll talk about its natural beauty with forests, mountains, and big cities near the coast to show the country's scenic spots.\n",
      "\n",
      "Including cultural aspects like English and French influences would be good, as well as First Nations culture to respect their contributions.\n",
      "\n",
      "Maybe mention environmental policies and sustainability since Canada is known for eco-friendly practices. Also, touch on education levels being high in the province system.\n",
      "\n",
      "Include popular regions like BC, AB, Ontario, etc., so users can relate if they're familiar with these areas.\n",
      "\n",
      "Finally, wrap it up by highlighting Canada as a welcoming place with friendly people and beautiful landscapes.\n",
      "</think>\n",
      "\n",
      "Claro! Apenas para ajudar, aqui está uma breve introdução sobre o país Canadá, written in Portuguese:\n",
      "\n",
      "Canadá é um dos países mais Grandes do mundo, localizado na fundamentals da América do Norte entre os Estados Unidos e a Mexico. Com mais de 380 milhões de habitantes, Canadá tem uma diversidade impressionante, com cidades modernas, paisagens naturais incríveis e uma cultura rica que combina elementos da Inglaterra, França, Alemanha e, naturalmente, as indígenas.\n",
      "\n",
      " alguns pontos principais sobre Canadá:\n",
      "\n",
      "1. **Cultura e Geografia**: Canadá tem uma culturalidade muito diversa, com cidades modernas e urbanizadas, como Toronto, Vancouver e Montreal, além de paisagens incríveis, como os montanhistas do Rocky, os olhos verdes dos atlantes e as ilha de Vancouver.\n",
      "\n",
      "2. **Economia**: A economia canadense é fundamentalmente baseada no Setor Energético, com grande indústria petrolícola, mineração e energias renováveis. Também tem uma forte setor de educatecão, saude e segmentos da indústria e computação.\n",
      "\n",
      "3. **Histórico**: Canadá teve um histórico colonial profundo, especialmente na sua formação como states federais do Canadá. Atualmente, o país é composto por 13 estados e 3 Timeouts (proviceis).\n",
      "\n",
      "4. **Línguas**: A língua inglesa é amplamente usada, especialmente nas cidades grandes e nos estados que são históricos britânicos. A língua française também é usada, especialmente na provinceiro, e as indígenas mantêm suas próprias línguas e culturas.\n",
      "\n",
      "5. **Paisagens**: Canadá tem uma belida natural que anything é impressional. Paisagens como os olhos verdes dos atlantes, montanhistas carajosos, bosques cheios de flores e rios flutuantes oferecem um paisagem constante de inspiração.\n",
      "\n",
      "6. **Sustentabilidade**: Muitos Canadinos são crescentes com a sutilização de recursos naturais e a promoção de um estilo de vida que valoriza a economia renovável e a perspectiva ambiental.\n",
      "\n",
      "7. **Educação**: O Canadá tem uma educação de alta qualidade, com sys em província para o Ensino Médio e estatísticas altas de escolarização.\n",
      "\n",
      "8. **Festa**: Canadá celebra mais tarde do que os Estados Unidos, especialmente Canrode e Passover, e possui um clima variável, com verões quentes e secos e invernos médodos e fríamos.\n",
      "\n",
      "Se você tiver mais perguntas sobre o país ou precisar de informações específicas, é só pedir!"
     ]
    }
   ],
   "source": [
    "question = \"Conte-me sobre o país Canada\"\n",
    "for chunk in deepseek_chat.send(question):\n",
    "    print(chunk, end=\"\")"
   ]
  },
  {
   "cell_type": "code",
   "execution_count": 51,
   "metadata": {},
   "outputs": [
    {
     "name": "stdout",
     "output_type": "stream",
     "text": [
      "<think>\n",
      "Okay, the user is asking if Canada is a left or right-leaning country. I need to provide an accurate answer in Brazilian Portuguese.\n",
      "\n",
      "First, I should explain that Canada isn't leaning left or right because it's a federal democracy with multiple provinces and territories. Each has their own political landscape.\n",
      "\n",
      "I'll mention that thefederal government itself doesn't have a primary party, but provinces like Ontario and British Columbia tend to lean left due to high taxes and population density. In contrast, Prairie provinces often lean right for similar reasons.\n",
      "\n",
      "It's also good to note that overall, Canadian politics are centrist, with more than half of people supporting progressive policies and a significant portion disliking austerity measures.\n",
      "\n",
      "I should keep the response clear and concise, avoiding any technical jargon so it's easy to understand.\n",
      "</think>\n",
      "\n",
      "O Canadá não é um país de esquerda ou de direita, pois é uma demografia federada e polêmica. No Canadá, não há single party federal, e as eleições federais são electorais complexas, com vencedores majoritários, minoritários ou evenos.\n",
      "\n",
      "A PSI (Political Spectrum Index) do Canada geralmente revela que os partidos da esquerda e da direita competem, mas não há uma \"escola\" ou \"tendência\" predominantemente governamental. No entanto, as eleições locais, specially disputed elections, geralmente valem mais a direita, especialmente nos estados do Midwest e da Praia.\n",
      "\n",
      "Em geral, o Canadá é considerado umaDEMOCRacia centralista, com federação estatal e eleições regionais. As políticas gerais são centristas, com mais de 50% dos eligible voters a favor de políticas progressivas e cerca de 30-40% acreditando que o país precisa de maiores despesas governamentais."
     ]
    }
   ],
   "source": [
    "question = \"O Canada é um país de esquerda ou de direita\"\n",
    "for chunk in deepseek_chat.send(question):\n",
    "    print(chunk, end=\"\")"
   ]
  },
  {
   "cell_type": "markdown",
   "metadata": {},
   "source": [
    "![captura de processamento](./files/img/2025/02/02/captura_tela_2025-02-02_14-56-50.png)\n",
    "\n",
    "Processamento do é bem tranquilo."
   ]
  }
 ],
 "metadata": {
  "kernelspec": {
   "display_name": ".venv",
   "language": "python",
   "name": "python3"
  },
  "language_info": {
   "codemirror_mode": {
    "name": "ipython",
    "version": 3
   },
   "file_extension": ".py",
   "mimetype": "text/x-python",
   "name": "python",
   "nbconvert_exporter": "python",
   "pygments_lexer": "ipython3",
   "version": "3.12.3"
  }
 },
 "nbformat": 4,
 "nbformat_minor": 2
}
