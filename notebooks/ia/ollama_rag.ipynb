{
 "cells": [
  {
   "cell_type": "markdown",
   "id": "a21b9ba1",
   "metadata": {},
   "source": [
    "# Ollama + RAG\n",
    "Fonte: [RAG with LLaMA Using Ollama: A Deep Dive into Retrieval-Augmented Generation](https://medium.com/@danushidk507/rag-with-llama-using-ollama-a-deep-dive-into-retrieval-augmented-generation-c58b9a1cfcd3)"
   ]
  },
  {
   "cell_type": "markdown",
   "id": "6f8f5722",
   "metadata": {},
   "source": [
    "## Implementação"
   ]
  },
  {
   "cell_type": "markdown",
   "id": "83cbf172",
   "metadata": {},
   "source": [
    "### Pre Requisitos\n",
    "\n",
    "```sh\n",
    "!pip install langchain\n",
    "!pip install -U langchain-community\n",
    "!pip install langchain-ollama\n",
    "!pip install langchain-huggingface\n",
    "!pip install sentence-transformers\n",
    "!pip install faiss-cpu\n",
    "```"
   ]
  },
  {
   "cell_type": "markdown",
   "id": "5e49793c",
   "metadata": {},
   "source": [
    "### 1. Ingestão dos dados"
   ]
  },
  {
   "cell_type": "code",
   "execution_count": 1,
   "id": "013a4009",
   "metadata": {},
   "outputs": [
    {
     "data": {
      "text/plain": [
       "[Document(metadata={'Header 1': '**A Branca de Neve e o Chapeuzinho Vermelho: Uma Noite Mágica**', 'Header 2': 'Capítulo 1: Um Caso de Confusão'}, page_content='Em uma vila encantada, onde a luz do sol refletia nas casas de madeira e as flores brilhavam como diamantes sob as árvores, viviam Branca de Neve e seu avô. Ela era conhecida por sua pele branca como a neve e pelo sorriso radiante que iluminava seus dias.  \\nUma noite, enquanto preparava um suco de morango para o avô doente, uma sombra escura se moveu na floresta ao lado. Era o lobo ardiloso, rindo maliciosamente.'),\n",
       " Document(metadata={'Header 1': '**A Branca de Neve e o Chapeuzinho Vermelho: Uma Noite Mágica**', 'Header 2': 'Capítulo 2: Uma Missão Urgente'}, page_content='O lobo, com seus olhos brilhantes e pelagem cinzenta, sorriu maliciosamente quando Branca de Neve saiu para entregar o suco ao avô. \"Não se preocupe, minha querida,\" disse ele, engolindo em seco. \"Sou apenas um mensageiro importante.\"  \\nBranca de Neve hesitou, mas viu as expressões ansiosas no rosto do lobo e resolveu seguir sua missão. Ela correu apressada para a floresta, onde o escuro engolia os últimos raios de luz.'),\n",
       " Document(metadata={'Header 1': '**A Branca de Neve e o Chapeuzinho Vermelho: Uma Noite Mágica**', 'Header 2': 'Capítulo 3: A Coruja Noturna'}, page_content='Na floresta sombria, Branca de Neve encontrou um casaco mágico, brilhante como estrelas. Ao puxar a capuz, ele se transformou em uma coruja noturna, sussurrando em seu ouvido: \"Voe com segurança e encontre o avô.\"  \\nA menina seguiu as luzes douradas que guiavam pelo caminho escondido entre as árvores. Ela chegou ao chalé do avô, mas algo não estava certo.'),\n",
       " Document(metadata={'Header 1': '**A Branca de Neve e o Chapeuzinho Vermelho: Uma Noite Mágica**', 'Header 2': 'Capítulo 4: O Truque Maldoso'}, page_content='\"Avô, eu trouxe suco de morango,\" disse Branca de Neve, empurrando a porta. Porém, em vez do familiar rosto doente, ela encontrou o lobo ronronante e feroz.  \\n\"Não me chame assim, menina bobinha!\" bramou o lobo, mostrando os dentes afiados. \"Eu sou seu verdadeiro avô!\"  \\nBranca de Neve sentiu um calafrio percorrer seu corpo, mas sua voz se firmou. \"Avô, olhe para mim! Eu tenho uma capa mágica que me ajuda a ver na escuridão.\"'),\n",
       " Document(metadata={'Header 1': '**A Branca de Neve e o Chapeuzinho Vermelho: Uma Noite Mágica**', 'Header 2': 'Capítulo 5: A Ajuda Inusitada'}, page_content='O lobo riu, pensando que Branca de Neve era apenas mais uma vítima. Mas então, as luzes da coruja noturna brilharam com maior intensidade. O lobo ficou sem ar quando percebeu a verdade.  \\n\"Como você...?\" sussurrou ele, confuso.  \\nBranca de Neve sorriu, segura em seu caminho mágico. \"Meu avô me ensinou que a amizade é mais forte do que o mal.\"'),\n",
       " Document(metadata={'Header 1': '**A Branca de Neve e o Chapeuzinho Vermelho: Uma Noite Mágica**', 'Header 2': 'Capítulo 6: Uma Noite Feliz'}, page_content='Do alto das árvores, Chapeuzinho Vermelho apareceu com uma capa transformada em coruja noturna também. Ela lançou um feitiço que prendeu o lobo em pedra, enquanto Branca de Neve e o avô se abraçavam.  \\nTodos viveram felizes daquela noite em frente ao fogo, contando histórias até o sono tomar conta delas. A amizade entre Branca de Neve e Chapeuzinho Vermelho era mais forte do que qualquer perigo, mostrando que a verdadeira coragem vem do coração.  \\n---  \\nEspero que você tenha gostado deste caprichado relato em formato de livro!')]"
      ]
     },
     "execution_count": 1,
     "metadata": {},
     "output_type": "execute_result"
    }
   ],
   "source": [
    "from langchain.text_splitter import MarkdownHeaderTextSplitter\n",
    "from pathlib import Path\n",
    "\n",
    "headers_to_split_on = [\n",
    "    (\"#\", \"Header 1\"),\n",
    "    (\"##\", \"Header 2\"),\n",
    "    (\"###\", \"Header 3\"),\n",
    "]\n",
    "\n",
    "# Split the document into chunks\n",
    "text_splitter = MarkdownHeaderTextSplitter(headers_to_split_on=headers_to_split_on)\n",
    "docs = text_splitter.split_text(Path(\"./data/historia_inedita.md\").read_text())\n",
    "docs"
   ]
  },
  {
   "cell_type": "markdown",
   "id": "a8ed19bd",
   "metadata": {},
   "source": [
    "### 2. A Inserção e Armazenamento de Dados com o FAISS"
   ]
  },
  {
   "cell_type": "code",
   "execution_count": 2,
   "id": "9a70c0a0",
   "metadata": {},
   "outputs": [],
   "source": [
    "from langchain.vectorstores import FAISS\n",
    "from langchain_huggingface import HuggingFaceEmbeddings\n",
    "\n",
    "# Load embedding model\n",
    "embedding_model_name = \"sentence-transformers/all-mpnet-base-v2\"\n",
    "model_kwargs = {\"device\": \"cuda\"}\n",
    "embeddings = HuggingFaceEmbeddings(\n",
    "    model_name=embedding_model_name,\n",
    "    model_kwargs=model_kwargs\n",
    ")\n",
    "\n",
    "# Create FAISS vector store\n",
    "vectorstore = FAISS.from_documents(docs, embeddings)\n",
    "\n",
    "# Save and reload the vector store\n",
    "vectorstore.save_local(\"faiss_index_\")\n",
    "persisted_vectorstore = FAISS.load_local(\"faiss_index_\", embeddings, allow_dangerous_deserialization=True)\n",
    "\n",
    "# Create a retriever\n",
    "retriever = persisted_vectorstore.as_retriever()"
   ]
  },
  {
   "cell_type": "markdown",
   "id": "1e906119",
   "metadata": {},
   "source": [
    "### 3. Carregando LLaMA com Ollama"
   ]
  },
  {
   "cell_type": "code",
   "execution_count": 3,
   "id": "11866ba8",
   "metadata": {},
   "outputs": [
    {
     "data": {
      "text/markdown": [
       "Claro, aqui está uma piada simples para você:\n",
       "\n",
       "Por que não fazia sentido perguntar \"O que é o sol em um ambiente de querosene?\"? Porque a resposta era óbvia: Não havia luz!"
      ],
      "text/plain": [
       "<IPython.core.display.Markdown object>"
      ]
     },
     "metadata": {},
     "output_type": "display_data"
    }
   ],
   "source": [
    "from langchain_ollama.llms import OllamaLLM\n",
    "from IPython import display\n",
    "\n",
    "# Initialize the LLaMA model\n",
    "llm = OllamaLLM(model=\"qwen2.5:3b\")\n",
    "\n",
    "# Test with a sample prompt\n",
    "response = llm.invoke(\"Me conte uma piada\")\n",
    "display.display(display.Markdown(response))"
   ]
  },
  {
   "cell_type": "markdown",
   "id": "a5627318",
   "metadata": {},
   "source": [
    "### 4. Orquestrando RAG com RetrievalQA"
   ]
  },
  {
   "cell_type": "code",
   "execution_count": 10,
   "id": "f8060c63",
   "metadata": {},
   "outputs": [
    {
     "data": {
      "text/markdown": [
       "**Question:** Me fale um pouco sobre a nova historia da Branca de neve   \n",
       "**Answer:** A nova história da Branca de Neve que você compartilhou adicionou uma perspectiva interessante ao mito clássico, enfocando o lado do lobo e o contexto de uma vila encantada onde ela vivia junto com seu avô. Isso oferece um contraponto aos personagens conhecidos, explorando seus pontos de vista diferentes e dando mais profundidade à história.\n",
       "\n",
       "Além disso, a introdução da amizade entre Branca de Neve e Chapeuzinho Vermelho é uma ideia original que torna a história ainda mais rica. Ela demonstra que a verdadeira coragem não vem apenas do coração dos heróis, mas também das conexões humanas.\n",
       "\n",
       "A personagem do lobo ardiloso foi retratada de maneira inteligente: ele não é completamente vilão. Sua visão alternativa sobre Branca de Neve é revelada gradualmente à medida que os eventos se desenvolvem. Isso ajuda a criar um mundo mais complexo e rico para explorar.\n",
       "\n",
       "Por fim, o uso da transformação da capa de Chapeuzinho Vermelho em coruja noturna como feitiço é uma ideia original e adiciona um elemento mágico às suas ações.\n",
       "\n",
       "Em geral, essa nova história oferece um novo olhar sobre personagens e eventos conhecidos, reforçando a essência da Branca de Neve enquanto introduz elementos novos que tornam a história mais envolvente."
      ],
      "text/plain": [
       "<IPython.core.display.Markdown object>"
      ]
     },
     "metadata": {},
     "output_type": "display_data"
    },
    {
     "data": {
      "text/markdown": [
       "**Question:** Onde ela vivia e com quem?   \n",
       "**Answer:** Branca de Neve vivia em uma vila encantada onde a luz do sol refletia nas casas de madeira e as flores brilhavam como diamantes sob as árvores. Ela viveu com seu avô naquela vila encantada."
      ],
      "text/plain": [
       "<IPython.core.display.Markdown object>"
      ]
     },
     "metadata": {},
     "output_type": "display_data"
    },
    {
     "data": {
      "text/markdown": [
       "**Question:** Seu avô era vivo?   \n",
       "**Answer:** Na história fornecida, não há informação clara sobre se o avô de Branca de Neve estava vivo ou morto. A frase \"Eu sou seu verdadeiro avô!\" e a referência ao suco de morango que ela trouxe para ele sugerem que seu avô estava realmente presente na cena. No entanto, sem mais contexto específico sobre o estado do avô, não é possível responder com certeza se ele estava vivo ou morto."
      ],
      "text/plain": [
       "<IPython.core.display.Markdown object>"
      ]
     },
     "metadata": {},
     "output_type": "display_data"
    },
    {
     "data": {
      "text/markdown": [
       "**Question:** O Chapeuzinho Vermelho existe nessa historia?   \n",
       "**Answer:** Não, Chapeuzinho Vermelho não existe nesta história. A história mencionada fala sobre Branca de Neve e o lobo na floresta, além do relato de uma outra aventura onde ela usa um casaco mágico para encontrar seu avô."
      ],
      "text/plain": [
       "<IPython.core.display.Markdown object>"
      ]
     },
     "metadata": {},
     "output_type": "display_data"
    }
   ],
   "source": [
    "from langchain.chains import RetrievalQA\n",
    "from IPython import display\n",
    "\n",
    "\n",
    "# Create RetrievalQA\n",
    "qa = RetrievalQA.from_chain_type(llm=llm, chain_type=\"stuff\", retriever=retriever)\n",
    "\n",
    "# Interactive query loop\n",
    "while True:\n",
    "    query = input(\"Type your query (or type 'Exit' to quit): \\n\")\n",
    "    if query.lower() == \"exit\":\n",
    "        break\n",
    "    response = qa.invoke(query)\n",
    "    display.display(display.Markdown(f\"**Question:** {response[\"query\"]}   \\n**Answer:** {response[\"result\"]}\"))\n"
   ]
  }
 ],
 "metadata": {
  "kernelspec": {
   "display_name": ".venv",
   "language": "python",
   "name": "python3"
  },
  "language_info": {
   "codemirror_mode": {
    "name": "ipython",
    "version": 3
   },
   "file_extension": ".py",
   "mimetype": "text/x-python",
   "name": "python",
   "nbconvert_exporter": "python",
   "pygments_lexer": "ipython3",
   "version": "3.13.2"
  }
 },
 "nbformat": 4,
 "nbformat_minor": 5
}
