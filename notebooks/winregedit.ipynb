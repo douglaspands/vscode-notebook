{
 "cells": [
  {
   "attachments": {},
   "cell_type": "markdown",
   "metadata": {},
   "source": [
    "# Win Regedit\n",
    "Notebook para analise do Regedit do Windows.\n",
    "Em desenvolvimento, porem, com o scan recursivo concluido."
   ]
  },
  {
   "cell_type": "code",
   "execution_count": 1,
   "metadata": {},
   "outputs": [],
   "source": [
    "from __future__ import annotations\n",
    "import winreg\n",
    "\n",
    "\n",
    "def regedit_scan(\n",
    "    hkey: str = \"HKEY_LOCAL_MACHINE\",\n",
    "    key_path: str = \"\"\n",
    ") -> dict:\n",
    "    result = {}\n",
    "    if key_path:\n",
    "        result[key_path] = {}\n",
    "    with winreg.OpenKey(getattr(winreg, hkey), key_path) as reg_subkey:\n",
    "        num_subkeys, num_values, _ = winreg.QueryInfoKey(reg_subkey)\n",
    "        for i in range(num_subkeys):\n",
    "            subkey_name = winreg.EnumKey(reg_subkey, i)\n",
    "            subkey_path = f\"{key_path}\\\\{subkey_name}\" if key_path else subkey_name\n",
    "            result[subkey_path] = {}\n",
    "        for i in range(num_values):\n",
    "            value_name, value_data, _ = winreg.EnumValue(reg_subkey, i)\n",
    "            result[key_path][value_name] = value_data\n",
    "    return result\n",
    "\n",
    "\n",
    "def scan_recursive(hkey: str) -> dict:\n",
    "    paths = {}\n",
    "    queue = [\"\"]\n",
    "    while True:\n",
    "        if not queue:\n",
    "            break\n",
    "        key_path = queue.pop(0)\n",
    "        try:\n",
    "            res = regedit_scan(hkey, key_path)\n",
    "            if res:\n",
    "                paths.update(res)\n",
    "                queue += list(res.keys())\n",
    "        except BaseException:\n",
    "            pass\n",
    "    return dict([(k, paths[k]) for k in sorted(paths.keys())])\n"
   ]
  },
  {
   "cell_type": "code",
   "execution_count": 2,
   "metadata": {},
   "outputs": [],
   "source": [
    "hkeys = (\n",
    "    \"HKEY_LOCAL_MACHINE\",\n",
    "    \"HKEY_CLASSES_ROOT\",\n",
    "    \"HKEY_CURRENT_USER\",\n",
    "    \"HKEY_USERS\",\n",
    "    \"HKEY_PERFORMANCE_DATA\",\n",
    "    \"HKEY_CURRENT_CONFIG\",\n",
    "    \"HKEY_DYN_DATA\",\n",
    ")\n",
    "\n",
    "paths = {}\n",
    "for hkey in hkeys:\n",
    "    paths[hkey] = scan_recursive(hkey)\n",
    "\n",
    "paths"
   ]
  }
 ],
 "metadata": {
  "kernelspec": {
   "display_name": ".venv",
   "language": "python",
   "name": "python3"
  },
  "language_info": {
   "codemirror_mode": {
    "name": "ipython",
    "version": 3
   },
   "file_extension": ".py",
   "mimetype": "text/x-python",
   "name": "python",
   "nbconvert_exporter": "python",
   "pygments_lexer": "ipython3",
   "version": "3.10.9"
  },
  "orig_nbformat": 4
 },
 "nbformat": 4,
 "nbformat_minor": 2
}
