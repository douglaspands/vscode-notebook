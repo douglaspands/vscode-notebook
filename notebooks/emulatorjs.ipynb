{
 "cells": [
  {
   "attachments": {},
   "cell_type": "markdown",
   "metadata": {},
   "source": [
    "# Gerador de HTML com EmulatorJS + ROM"
   ]
  },
  {
   "attachments": {},
   "cell_type": "markdown",
   "metadata": {},
   "source": [
    "## Setup"
   ]
  },
  {
   "cell_type": "code",
   "execution_count": 33,
   "metadata": {},
   "outputs": [
    {
     "data": {
      "text/plain": [
       "<__main__.WebGame at 0x7ff6287a8820>"
      ]
     },
     "execution_count": 33,
     "metadata": {},
     "output_type": "execute_result"
    }
   ],
   "source": [
    "import base64\n",
    "import requests\n",
    "import io\n",
    "from pathlib import Path\n",
    "from pydash import py_\n",
    "\n",
    "\n",
    "html_header = \"\"\"<!doctype html>\n",
    "<html lang=\"pt-br\">\n",
    "<head>\n",
    "<meta charset=\"utf-8\">\n",
    "<meta name=\"viewport\" content=\"width=device-width, initial-scale=1\">\n",
    "<title>{title}</title>\n",
    "<link href=\"https://cdn.jsdelivr.net/npm/bootstrap@5.3.0-alpha2/dist/css/bootstrap.min.css\" rel=\"stylesheet\" integrity=\"sha384-aFq/bzH65dt+w6FI2ooMVUpc+21e0SRygnTpmBvdBgSdnuTN7QbdgL+OapgHtvPp\" crossorigin=\"anonymous\">\n",
    "<style>\n",
    "* {{\n",
    "  box-sizing: content-box;\n",
    "}}\n",
    ".game-container {{\n",
    "    width: 640px;\n",
    "    height: 480px;\n",
    "    max-width: 100%;\n",
    "    margin: auto;\n",
    "}}\n",
    "</style>\n",
    "</head>\n",
    "<body>\n",
    "<br>\"\"\"\n",
    "\n",
    "html_footer = \"\"\"\n",
    "<script src=\"https://cdn.jsdelivr.net/npm/bootstrap@5.3.0-alpha2/dist/js/bootstrap.bundle.min.js\" integrity=\"sha384-qKXV1j0HvMUeCBQ+QVp7JcfGl760yU08IQ+GpUo5hlbpg51QRiuqHAJz8+BrxE/N\" crossorigin=\"anonymous\"></script>\n",
    "</body>\n",
    "</html>\"\"\"\n",
    "\n",
    "html_base_1 = \"\"\"\n",
    "<div class=\"container\">\n",
    "    <h2 class=\"text-center\">{title}</h2>\n",
    "    <div class=\"game-container\">\n",
    "        <div id=\"game\"></div>\n",
    "    </div>\n",
    "    <script type=\"text/javascript\">\n",
    "        var EJS_player = \"#game\";\n",
    "        var EJS_core = \"{core_name}\";\n",
    "        var EJS_lightgun = false;\n",
    "        var EJS_biosUrl = \"\";\n",
    "        var EJS_gameUrl = \"{game_url}\";\n",
    "        var EJS_pathtodata = \"https://rawcdn.githack.com/EmulatorJS/EmulatorJS/main/data/\";\n",
    "    </script>\n",
    "    <script src=\"https://rawcdn.githack.com/EmulatorJS/EmulatorJS/main/data/loader.js\"></script>\n",
    "</div>\"\"\"\n",
    "\n",
    "\n",
    "html_base_2 = \"\"\"\n",
    "<div class=\"container\">\n",
    "    <h2 class=\"text-center\">{title}</h2>\n",
    "    <div class=\"game-container\">\n",
    "        <div id=\"game\"></div>\n",
    "    </div>\n",
    "    <script type=\"text/javascript\">\n",
    "        var byteCharacters = atob(\"{bin_b64}\");\n",
    "        var byteNumbers = new Array(byteCharacters.length);\n",
    "        for (let i = 0; i < byteCharacters.length; i++) {{\n",
    "            byteNumbers[i] = byteCharacters.charCodeAt(i);\n",
    "        }}\n",
    "        var EJS_player = \"#game\";\n",
    "        var EJS_core = \"{core_name}\";\n",
    "        var EJS_lightgun = false;\n",
    "        var EJS_biosUrl = \"\";\n",
    "        var EJS_gameUrl = URL.createObjectURL(new Blob([Uint8Array.from(byteNumbers)]));\n",
    "        var EJS_pathtodata = \"https://rawcdn.githack.com/EmulatorJS/EmulatorJS/main/data/\";\n",
    "    </script>\n",
    "    <script src=\"https://rawcdn.githack.com/EmulatorJS/EmulatorJS/main/data/loader.js\"></script>\n",
    "</div>\"\"\"\n",
    "\n",
    "\n",
    "class WebGame:\n",
    "    def __init__(self):\n",
    "        self.html = {\n",
    "            \"header\": html_header,\n",
    "            \"footer\": html_footer,\n",
    "            \"base_1\": html_base_1,\n",
    "            \"base_2\": html_base_2,\n",
    "        }\n",
    "        self.cores_allowed = [\n",
    "            \"nes\",\n",
    "            \"snes\",\n",
    "            \"gb\",\n",
    "            \"gbc\",\n",
    "            \"gba\",\n",
    "            \"segaMD\",\n",
    "            \"fbalpha2012_cps1\",\n",
    "        ]\n",
    "\n",
    "    def _download_rom(self, url: str) -> io.BytesIO:\n",
    "        file = io.BytesIO()\n",
    "        with requests.get(url, stream=True) as res:\n",
    "            res.raise_for_status()\n",
    "            for chunk in res.iter_content(chunk_size=8192): \n",
    "                file.write(chunk)\n",
    "        file.seek(0)\n",
    "        return file\n",
    "\n",
    "    def _generate_content_1(self, core_name: str, game_url: str, title: str) -> str:\n",
    "        return self.html[\"base_1\"].format(game_url=game_url, title=title, core_name=core_name)\n",
    "\n",
    "    def _generate_content_2(self, core_name: str, game_url: str, title: str) -> str:\n",
    "        file = self._download_rom(url=game_url)\n",
    "        bin_b64 = base64.b64encode(file.read()).decode()\n",
    "        return self.html[\"base_2\"].format(game_url=game_url, title=title, core_name=core_name, bin_b64=bin_b64)\n",
    "\n",
    "    def _generate_content_3(self, core_name: str, game_url: str, title: str) -> str:\n",
    "        if not Path(game_url).exists():\n",
    "            raise Exception(f\"Arquivo '{game_url}' não existe!\")\n",
    "        with open(file=game_url, mode=\"rb\") as file:\n",
    "            bin_b64 = base64.b64encode(file.read()).decode()\n",
    "        return self.html[\"base_2\"].format(game_url=game_url, title=title, core_name=core_name, bin_b64=bin_b64)\n",
    "\n",
    "    def make_html(self, core_name: str, game_url: str, title: str, b64_rom: bool = True, local_file: bool = False) -> str:\n",
    "        if core_name not in self.cores_allowed:\n",
    "            raise Exception(f\"Core '{core_name!s}' não permitido! São permitidos: {self.cores_allowed!s}\")\n",
    "        if local_file is True:\n",
    "            content = self._generate_content_3(game_url=game_url, core_name=core_name, title=title)\n",
    "        elif b64_rom is True:\n",
    "            content = self._generate_content_2(game_url=game_url, core_name=core_name, title=title)\n",
    "        else:\n",
    "            content = self._generate_content_1(game_url=game_url, core_name=core_name, title=title)\n",
    "        header = self.html[\"header\"].format(title=title)\n",
    "        footer = self.html[\"footer\"]\n",
    "        html_content = f\"{header}{content}{footer}\"\n",
    "        file = Path.cwd().joinpath(\"files/webgames\").joinpath(py_.snake_case(title) + \".html\")\n",
    "        with open(file=str(file.resolve()), mode=\"w\") as fileout:\n",
    "            fileout.write(html_content)\n",
    "        return f\"Foi gerado o arquivo: '{file.resolve()!s}'.\"\n",
    "\n",
    "webgame = WebGame()\n",
    "webgame"
   ]
  },
  {
   "attachments": {},
   "cell_type": "markdown",
   "metadata": {},
   "source": [
    "## Gerar HTML"
   ]
  },
  {
   "attachments": {},
   "cell_type": "markdown",
   "metadata": {},
   "source": [
    "### NES - Metroid"
   ]
  },
  {
   "cell_type": "code",
   "execution_count": 14,
   "metadata": {},
   "outputs": [
    {
     "name": "stdout",
     "output_type": "stream",
     "text": [
      "Foi gerado o arquivo: '/home/douglaspands/workspace/vscode-notebook/files/webgames/nes_metroid.html'.\n"
     ]
    }
   ],
   "source": [
    "webgame.make_html(\n",
    "    game_url=\"https://myrient.erista.me/files/No-Intro/Nintendo%20-%20Nintendo%20Entertainment%20System%20(Headered)/Metroid%20(USA).zip\",\n",
    "    core_name=\"nes\",\n",
    "    title=\"NES - Metroid\"\n",
    ")"
   ]
  },
  {
   "attachments": {},
   "cell_type": "markdown",
   "metadata": {},
   "source": [
    "### GBA - Metroid Zero Mission"
   ]
  },
  {
   "cell_type": "code",
   "execution_count": 19,
   "metadata": {},
   "outputs": [
    {
     "name": "stdout",
     "output_type": "stream",
     "text": [
      "Foi gerado o arquivo: '/home/douglaspands/workspace/vscode-notebook/files/webgames/gba_metroid_zero_mission.html'.\n"
     ]
    }
   ],
   "source": [
    "webgame.make_html(\n",
    "    game_url=\"https://myrient.erista.me/files/No-Intro/Nintendo%20-%20Game%20Boy%20Advance/Metroid%20-%20Zero%20Mission%20(USA).zip\",\n",
    "    core_name=\"gba\",\n",
    "    title=\"GBA - Metroid Zero Mission\"\n",
    ")"
   ]
  },
  {
   "attachments": {},
   "cell_type": "markdown",
   "metadata": {},
   "source": [
    "### GBA - Metroid Fusion"
   ]
  },
  {
   "cell_type": "code",
   "execution_count": 20,
   "metadata": {},
   "outputs": [
    {
     "name": "stdout",
     "output_type": "stream",
     "text": [
      "Foi gerado o arquivo: '/home/douglaspands/workspace/vscode-notebook/files/webgames/gba_metroid_fusion.html'.\n"
     ]
    }
   ],
   "source": [
    "webgame.make_html(\n",
    "    game_url=\"https://myrient.erista.me/files/No-Intro/Nintendo%20-%20Game%20Boy%20Advance/Metroid%20Fusion%20(USA).zip\",\n",
    "    core_name=\"gba\",\n",
    "    title=\"GBA - Metroid Fusion\"\n",
    ")"
   ]
  },
  {
   "attachments": {},
   "cell_type": "markdown",
   "metadata": {},
   "source": [
    "### SNES - Super Metroid"
   ]
  },
  {
   "cell_type": "code",
   "execution_count": 18,
   "metadata": {},
   "outputs": [
    {
     "name": "stdout",
     "output_type": "stream",
     "text": [
      "Foi gerado o arquivo: '/home/douglaspands/workspace/vscode-notebook/files/webgames/snes_super_metroid.html'.\n"
     ]
    }
   ],
   "source": [
    "webgame.make_html(\n",
    "    game_url=\"https://myrient.erista.me/files/No-Intro/Nintendo%20-%20Super%20Nintendo%20Entertainment%20System/Super%20Metroid%20(Japan,%20USA)%20(En,Ja).zip\",\n",
    "    core_name=\"snes\",\n",
    "    title=\"SNES - Super Metroid\"\n",
    ")"
   ]
  },
  {
   "attachments": {},
   "cell_type": "markdown",
   "metadata": {},
   "source": [
    "### GB - Metroid 2"
   ]
  },
  {
   "cell_type": "code",
   "execution_count": 22,
   "metadata": {},
   "outputs": [
    {
     "name": "stdout",
     "output_type": "stream",
     "text": [
      "Foi gerado o arquivo: '/home/douglaspands/workspace/vscode-notebook/files/webgames/gb_metroid_2.html'.\n"
     ]
    }
   ],
   "source": [
    "webgame.make_html(\n",
    "    game_url=\"https://myrient.erista.me/files/No-Intro/Nintendo%20-%20Game%20Boy/Metroid%20II%20-%20Return%20of%20Samus%20(World).zip\",\n",
    "    core_name=\"gb\",\n",
    "    title=\"GB - Metroid 2\"\n",
    ")"
   ]
  },
  {
   "attachments": {},
   "cell_type": "markdown",
   "metadata": {},
   "source": [
    "### GBC - Metroid 2 DX (Color Hack)"
   ]
  },
  {
   "cell_type": "code",
   "execution_count": 34,
   "metadata": {},
   "outputs": [
    {
     "data": {
      "text/plain": [
       "\"Foi gerado o arquivo: '/home/douglaspands/workspace/vscode-notebook/files/webgames/gbc_metroid_2_dx.html'.\""
      ]
     },
     "execution_count": 34,
     "metadata": {},
     "output_type": "execute_result"
    }
   ],
   "source": [
    "webgame.make_html(\n",
    "    game_url=\"/mnt/d/Games/RetroArch/roms/gameboy_color/Metroid II - Return of Samus (EJRTQ v1.3).zip\",\n",
    "    core_name=\"gbc\",\n",
    "    title=\"GBC - Metroid 2 DX\",\n",
    "    local_file=True\n",
    ")"
   ]
  },
  {
   "attachments": {},
   "cell_type": "markdown",
   "metadata": {},
   "source": [
    "### CPS1 - Cadillacs And Dinosaur"
   ]
  },
  {
   "cell_type": "code",
   "execution_count": 27,
   "metadata": {},
   "outputs": [
    {
     "name": "stdout",
     "output_type": "stream",
     "text": [
      "Foi gerado o arquivo: '/home/douglaspands/workspace/vscode-notebook/files/webgames/cps_1_cadillacs_and_dinosaurs.html'.\n"
     ]
    }
   ],
   "source": [
    "webgame.make_html(\n",
    "    game_url=str(Path.cwd().joinpath(\"files/webgames\").joinpath(\"dino.zip\").resolve()),\n",
    "    core_name=\"fbalpha2012_cps1\",\n",
    "    title=\"CPS1 - Cadillacs and Dinosaurs\",\n",
    "    local_file=True,\n",
    ")"
   ]
  },
  {
   "attachments": {},
   "cell_type": "markdown",
   "metadata": {},
   "source": [
    "### Mega Drive - Streets of Rage 2"
   ]
  },
  {
   "cell_type": "code",
   "execution_count": 30,
   "metadata": {},
   "outputs": [
    {
     "data": {
      "text/plain": [
       "\"Foi gerado o arquivo: '/home/douglaspands/workspace/vscode-notebook/files/webgames/mega_drive_streets_of_rage_2.html'.\""
      ]
     },
     "execution_count": 30,
     "metadata": {},
     "output_type": "execute_result"
    }
   ],
   "source": [
    "webgame.make_html(\n",
    "    game_url=\"https://myrient.erista.me/files/No-Intro/Sega%20-%20Mega%20Drive%20-%20Genesis/Streets%20of%20Rage%202%20(USA).zip\",\n",
    "    core_name=\"segaMD\",\n",
    "    title=\"Mega Drive - Streets of Rage 2\",\n",
    ")"
   ]
  },
  {
   "attachments": {},
   "cell_type": "markdown",
   "metadata": {},
   "source": [
    "### SNES - Top Gear"
   ]
  },
  {
   "cell_type": "code",
   "execution_count": 31,
   "metadata": {},
   "outputs": [
    {
     "data": {
      "text/plain": [
       "\"Foi gerado o arquivo: '/home/douglaspands/workspace/vscode-notebook/files/webgames/snes_top_gear.html'.\""
      ]
     },
     "execution_count": 31,
     "metadata": {},
     "output_type": "execute_result"
    }
   ],
   "source": [
    "webgame.make_html(\n",
    "    game_url=\"https://myrient.erista.me/files/No-Intro/Nintendo%20-%20Super%20Nintendo%20Entertainment%20System/Top%20Gear%20(USA).zip\",\n",
    "    core_name=\"snes\",\n",
    "    title=\"SNES - Top Gear\",\n",
    ")"
   ]
  },
  {
   "attachments": {},
   "cell_type": "markdown",
   "metadata": {},
   "source": [
    "### SNES - Top Gear 2"
   ]
  },
  {
   "cell_type": "code",
   "execution_count": 32,
   "metadata": {},
   "outputs": [
    {
     "data": {
      "text/plain": [
       "\"Foi gerado o arquivo: '/home/douglaspands/workspace/vscode-notebook/files/webgames/snes_top_gear_2.html'.\""
      ]
     },
     "execution_count": 32,
     "metadata": {},
     "output_type": "execute_result"
    }
   ],
   "source": [
    "webgame.make_html(\n",
    "    game_url=\"https://myrient.erista.me/files/No-Intro/Nintendo%20-%20Super%20Nintendo%20Entertainment%20System/Top%20Gear%202%20(USA).zip\",\n",
    "    core_name=\"snes\",\n",
    "    title=\"SNES - Top Gear 2\",\n",
    ")"
   ]
  }
 ],
 "metadata": {
  "kernelspec": {
   "display_name": ".venv",
   "language": "python",
   "name": "python3"
  },
  "language_info": {
   "codemirror_mode": {
    "name": "ipython",
    "version": 3
   },
   "file_extension": ".py",
   "mimetype": "text/x-python",
   "name": "python",
   "nbconvert_exporter": "python",
   "pygments_lexer": "ipython3",
   "version": "3.10.10"
  },
  "orig_nbformat": 4
 },
 "nbformat": 4,
 "nbformat_minor": 2
}
